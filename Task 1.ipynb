{
  "nbformat": 4,
  "nbformat_minor": 0,
  "metadata": {
    "colab": {
      "provenance": [],
      "gpuType": "T4"
    },
    "kernelspec": {
      "name": "python3",
      "display_name": "Python 3"
    },
    "language_info": {
      "name": "python"
    },
    "accelerator": "GPU"
  },
  "cells": [
    {
      "cell_type": "code",
      "execution_count": 33,
      "metadata": {
        "id": "oN7kktIAbZab"
      },
      "outputs": [],
      "source": [
        "import requests\n",
        "from bs4 import BeautifulSoup"
      ]
    },
    {
      "cell_type": "code",
      "source": [
        "response=requests.get('https://www.airlinequality.com/airline-reviews/british-airways/page/1/?pagesize=3000')\n",
        "response"
      ],
      "metadata": {
        "colab": {
          "base_uri": "https://localhost:8080/"
        },
        "id": "DmOP48mlbhdV",
        "outputId": "d93a175f-f13e-4994-a8aa-6f50a0cd18ae"
      },
      "execution_count": 34,
      "outputs": [
        {
          "output_type": "execute_result",
          "data": {
            "text/plain": [
              "<Response [200]>"
            ]
          },
          "metadata": {},
          "execution_count": 34
        }
      ]
    },
    {
      "cell_type": "code",
      "source": [
        "response.headers"
      ],
      "metadata": {
        "colab": {
          "base_uri": "https://localhost:8080/"
        },
        "id": "VP42Ss33cgpK",
        "outputId": "6aff3369-a67a-48b6-f4e7-62115dc2b2ac"
      },
      "execution_count": 35,
      "outputs": [
        {
          "output_type": "execute_result",
          "data": {
            "text/plain": [
              "{'Date': 'Sun, 25 Jun 2023 23:41:03 GMT', 'Content-Type': 'text/html; charset=UTF-8', 'Transfer-Encoding': 'chunked', 'Connection': 'keep-alive', 'x-powered-by': 'PHP/7.4.33, PleskLin', 'expires': 'Thu, 19 Nov 1981 08:52:00 GMT', 'Cache-Control': 'no-store, no-cache, must-revalidate', 'pragma': 'no-cache', 'link': '<https://www.airlinequality.com/wp-json/>; rel=\"https://api.w.org/\"', 'set-cookie': 'PHPSESSID=rpbn7ta9hpv25tnnaoa2kf126i; path=/; secure; HttpOnly', 'vary': 'Accept-Encoding,User-Agent', 'CF-Cache-Status': 'DYNAMIC', 'Report-To': '{\"endpoints\":[{\"url\":\"https:\\\\/\\\\/a.nel.cloudflare.com\\\\/report\\\\/v3?s=3igxp87oUFZ1JdTFog95AXsIK5XLJTBn0r8AzaLMm3iTqhcEKRLxf5I6SK8e1B69BRIGmQFait1l0msbOuQgDz1jfxBviB7ckwutHXNImoRUTfKPMTFgBbe0ms7YSlQAHeYJNjM0PgJD\"}],\"group\":\"cf-nel\",\"max_age\":604800}', 'NEL': '{\"success_fraction\":0,\"report_to\":\"cf-nel\",\"max_age\":604800}', 'Server': 'cloudflare', 'CF-RAY': '7dd10efc6bf90a47-AMS', 'Content-Encoding': 'gzip', 'alt-svc': 'h3=\":443\"; ma=86400'}"
            ]
          },
          "metadata": {},
          "execution_count": 35
        }
      ]
    },
    {
      "cell_type": "code",
      "source": [
        "html_data=response.text"
      ],
      "metadata": {
        "id": "-NzN4XfKcnFC"
      },
      "execution_count": 36,
      "outputs": []
    },
    {
      "cell_type": "code",
      "source": [
        "data=BeautifulSoup(html_data,'html.parser')\n",
        "# print(data.prettify())"
      ],
      "metadata": {
        "id": "8FGsMmbicxaO"
      },
      "execution_count": 37,
      "outputs": []
    },
    {
      "cell_type": "code",
      "source": [
        "review=data.find_all('div',{\"class\":\"text_content\"})\n",
        "# print(content)"
      ],
      "metadata": {
        "id": "FBraoxs6eiSz"
      },
      "execution_count": 38,
      "outputs": []
    },
    {
      "cell_type": "code",
      "source": [
        "len(review)"
      ],
      "metadata": {
        "colab": {
          "base_uri": "https://localhost:8080/"
        },
        "id": "CdDoC9bve-cg",
        "outputId": "7baff87a-7ccb-4b66-bd40-8ff5385de5e3"
      },
      "execution_count": 39,
      "outputs": [
        {
          "output_type": "execute_result",
          "data": {
            "text/plain": [
              "3000"
            ]
          },
          "metadata": {},
          "execution_count": 39
        }
      ]
    },
    {
      "cell_type": "code",
      "source": [
        "recommendation=data.find_all(string=[\"no\", \"yes\"])\n",
        "len(recommendation)"
      ],
      "metadata": {
        "colab": {
          "base_uri": "https://localhost:8080/"
        },
        "id": "oqpXe4n7gbD1",
        "outputId": "3aa62d8b-1f5f-4963-99c8-636aae61a9e2"
      },
      "execution_count": 40,
      "outputs": [
        {
          "output_type": "execute_result",
          "data": {
            "text/plain": [
              "3000"
            ]
          },
          "metadata": {},
          "execution_count": 40
        }
      ]
    },
    {
      "cell_type": "code",
      "source": [],
      "metadata": {
        "id": "x8PxI8HBT8zq"
      },
      "execution_count": 40,
      "outputs": []
    },
    {
      "cell_type": "code",
      "source": [
        "for i in range(0,10):\n",
        "  print(review[i].text)\n"
      ],
      "metadata": {
        "colab": {
          "base_uri": "https://localhost:8080/"
        },
        "id": "01sO78aCgzE7",
        "outputId": "2f16afcf-233e-43c2-f7b9-7e8540573d63"
      },
      "execution_count": 41,
      "outputs": [
        {
          "output_type": "stream",
          "name": "stdout",
          "text": [
            "✅ Trip Verified |  The airline lost my luggage and was absolutely awful throughout the entire trip. They gave me no updates, their website sucks, and it was nearly impossible to get someone on the phone. They finally delivered my luggage to my hotel after i had left to go back to the US, 5 days after I told them to ship it back to the US. Now, I’ve been calling everyday begging them to get my bag back to me. They appease me on the phone, tell me they’re fixing it, but nothing changes. The hotel can’t get in touch with them and they haven’t even tried to pick to bag back up. Several times, when I called I got a message saying they were not answering due to too many complaints and calls and to “call back later”. \n",
            "✅ Trip Verified |  We booked on the BA website, round trip flights from Seattle to Amman with a stop in London, in Business Class. Our first flight was delayed and then diverted to NYC, and enroute my husband experienced a medical emergency. When we landed in NYC we were taken to a hospital and I stayed in constant contact with the airline agent who had arranged for the ambulance transfer. The same evening we flew back home, confirming cancellation of all remaining flights with the agent at the airport. For the next several weeks, we spoke many times with BA Customer Service, trying to obtain some kind of refund — we were met with contradictory explanations, excuses and an absence of meaningful customer service. We discovered we had been marked as “no-shows” for our flight to Amman and that our return flight was still active. We were unable to cancel the return on the website, despite booking on the website. Our phone calls were never returned, we spent a minimum of 40-60 minutes on hold for every phone call we made, our emails received only canned replies without answers or explanations, we were told it was “not possible” to receive a copy of the ticketing rules and regulations nor to speak with a supervisor, and after several weeks of this abysmal customer service I filed a complaint with the FAA. In response to my complaint I received an email from BA Customer Service explaining that they had reviewed my many requests for a “full refund” but that could not be accommodated due to the ticketing rules. They would issue flight credits - except for the portion for which we no-showed. They did not state how many credits. We never once asked for a full refund - we asked to read the rules and to receive a partial refund. We will not use the credits - we were fully refunded by our travel insurance.\n",
            "✅ Trip Verified |  First time flying with BA business class, never again. There are no boarding drinks provided. My meal quality was below business class standards as was the quality of the wine. On arrival at Bodrum my bags were among the last to appear. Not looking forward to the same chaos on the return flight. \n",
            "Not Verified | You can buy sandwiches and crisps but don't expect a hot meal. Because the plane is a narrow body , there are no screens. Not helping matters is the fact that the BA prebooking shop for food didn't recognise the flight number, and the onboard  WiFi didn't work. \n",
            "✅ Trip Verified |  This is a two-for-one review covering economy and business class on the BA flight from London City to Ibiza. Economy was excellent. A very light lunch (small cheese-and-pastrami sandwich, chocolate brownie) followed by a pretty much free-flowing drinks trolley. The flight was full but the crew worked hard and did a very good job. This is a flight I would recommend. Except, don't fall for the last minute offer for an upgrade to business for £100+ in each direction, as I did. (I flew economy out and business back, while my brother flew business, then economy.) The business seats are identical to economy, with no seats blocked, so you are squished in four abreast. The meals are almost identical, with minor tweaks such as a yoghurt for your £100. The only real plus is Champagne. But on my flight, there was none because of \"supply issues\". The cabin attendant (I think his name was Tom) must be one of the best in the business. I didn't eat, so I paid £100 for nothing. Oh well. So great flight but stick with economy.\n",
            "✅ Trip Verified | Absolutely horrible airline. Communication is terrible. Last minute delays, cancellations, seat changes with no communication. App and website user experience is years behind other airlines. Seats are cramped and uncomfortable. Overpriced. Would not fly again.\n",
            "✅ Trip Verified |  Having experienced delays and cancellations departing from USA to Europe and now a 3.5 hour estimated delay at LHR heading back to USA, I would warn travelers that BA has become unreliable and is now on my “Do Not Fly” list until they get better organized. \n",
            "✅ Trip Verified | Travelled to Heathrow to Kalamata and return journey 11 days later. World Traveller (aka Economy) Class. Both flights departed on time. Return flight landed early - BUT - we then had a 1 1/4 hour wait for the baggage to be offloaded which rather ruined the journey home as we then caught a motorway closure. Flights OK - FA's (particularly on return flight) pleasant enough. But, as usual, Economy class seating was truly dreadful - no legroom at all. No better in Club class either - only the middle seat left free. Marked down because of this. Can only recommend if you are not tall.\n",
            "Not Verified |  This flight failed at every level. We were delayed and arrived at our destination late so that our prepaid car transfer phoned to advise us that he could only wait another 10 minutes for us but this was a BA holiday. We pre ordered food for our flight and this was never loaded onto our flight and to finally compound British Airways complete and utter uselessness our luggage was still in Heathrow. As there is no flight tomorrow the earliest this luggage could possible arrive is very late on Wednesday evening. Having only the clothes that you flew in and reading you can only claim for toiletries and underwear seems to be the antithesis of a happy holiday. I might have expected a complimentary scone in lieu of no food but no we were told that we could purchase from the trolley what they had available. I would like to make it clear that we are British airways bronze level holders which as we have been long retired shows how we have used this airline historically.\n",
            "Not Verified |  Beware of British Airways and their marketing to make you believe that they are full of class and level above the rest. They won't treat you that way when you get bumped from a flight and it is their responsibility to compensate you for their mistakes. We recently had a trip home planned from MRS to SEA. A mechanical issue meant that we departed late from MRS to LHR where we needed to make a connecting flight. We landed with plenty of time to make it to our next gate, but a series of issues and choices by British Airways kept us from boarding our next plane. The crew did not let off passengers with connecting flights first nor did they hold the next flight for a mere 5-10 minutes for passengers to make connections on their airlines. Plus, we discovered that we had actually been bumped off our next flight before we even landed. We were pushed to Virgin Atlantic to figure out how to get us home. It extended our travel day by 8 hours! We were traveling with children as well. No offers of compensation or upgrades were made. And now BA is refusing to provide us any financial compensation. We paid for a trip home with only one connection and instead had two connections, multiple airlines to deal with, security through an extra airport with kids for a midnight flight we were never planning on. That is not what we paid for but BA refuses to make it right. So beware potential travelers!\n"
          ]
        }
      ]
    },
    {
      "cell_type": "code",
      "source": [
        "for i in range(0,10):\n",
        "  print(recommendation[i].string)"
      ],
      "metadata": {
        "colab": {
          "base_uri": "https://localhost:8080/"
        },
        "id": "xcOFdOzpg1PY",
        "outputId": "dadfc50f-d57e-4f88-a8e2-1523ee535278"
      },
      "execution_count": 42,
      "outputs": [
        {
          "output_type": "stream",
          "name": "stdout",
          "text": [
            "no\n",
            "no\n",
            "no\n",
            "no\n",
            "yes\n",
            "no\n",
            "no\n",
            "yes\n",
            "no\n",
            "no\n"
          ]
        }
      ]
    },
    {
      "cell_type": "code",
      "source": [
        "reviewText=[]\n",
        "recommendationText=[]\n",
        "\n",
        "for i in range (0,3000):\n",
        "  reviewText.append(review[i].text)\n",
        "  recommendationText.append(recommendation[i].text)"
      ],
      "metadata": {
        "id": "ub6vtVgJYeVN"
      },
      "execution_count": 43,
      "outputs": []
    },
    {
      "cell_type": "code",
      "source": [
        "import pandas as pd\n",
        "df=pd.DataFrame()\n",
        "df[\"reviews\"]=reviewText\n",
        "df['recommendation']=recommendationText\n",
        "df.head()"
      ],
      "metadata": {
        "colab": {
          "base_uri": "https://localhost:8080/",
          "height": 206
        },
        "id": "ty5I83FaXGQL",
        "outputId": "6b1f105d-cb66-4087-e4e4-a4764d59744c"
      },
      "execution_count": 44,
      "outputs": [
        {
          "output_type": "execute_result",
          "data": {
            "text/plain": [
              "                                             reviews recommendation\n",
              "0  ✅ Trip Verified |  The airline lost my luggage...             no\n",
              "1  ✅ Trip Verified |  We booked on the BA website...             no\n",
              "2  ✅ Trip Verified |  First time flying with BA b...             no\n",
              "3  Not Verified | You can buy sandwiches and cris...             no\n",
              "4  ✅ Trip Verified |  This is a two-for-one revie...            yes"
            ],
            "text/html": [
              "\n",
              "  <div id=\"df-703fb472-696a-4cf7-a64b-726a37fc3cad\">\n",
              "    <div class=\"colab-df-container\">\n",
              "      <div>\n",
              "<style scoped>\n",
              "    .dataframe tbody tr th:only-of-type {\n",
              "        vertical-align: middle;\n",
              "    }\n",
              "\n",
              "    .dataframe tbody tr th {\n",
              "        vertical-align: top;\n",
              "    }\n",
              "\n",
              "    .dataframe thead th {\n",
              "        text-align: right;\n",
              "    }\n",
              "</style>\n",
              "<table border=\"1\" class=\"dataframe\">\n",
              "  <thead>\n",
              "    <tr style=\"text-align: right;\">\n",
              "      <th></th>\n",
              "      <th>reviews</th>\n",
              "      <th>recommendation</th>\n",
              "    </tr>\n",
              "  </thead>\n",
              "  <tbody>\n",
              "    <tr>\n",
              "      <th>0</th>\n",
              "      <td>✅ Trip Verified |  The airline lost my luggage...</td>\n",
              "      <td>no</td>\n",
              "    </tr>\n",
              "    <tr>\n",
              "      <th>1</th>\n",
              "      <td>✅ Trip Verified |  We booked on the BA website...</td>\n",
              "      <td>no</td>\n",
              "    </tr>\n",
              "    <tr>\n",
              "      <th>2</th>\n",
              "      <td>✅ Trip Verified |  First time flying with BA b...</td>\n",
              "      <td>no</td>\n",
              "    </tr>\n",
              "    <tr>\n",
              "      <th>3</th>\n",
              "      <td>Not Verified | You can buy sandwiches and cris...</td>\n",
              "      <td>no</td>\n",
              "    </tr>\n",
              "    <tr>\n",
              "      <th>4</th>\n",
              "      <td>✅ Trip Verified |  This is a two-for-one revie...</td>\n",
              "      <td>yes</td>\n",
              "    </tr>\n",
              "  </tbody>\n",
              "</table>\n",
              "</div>\n",
              "      <button class=\"colab-df-convert\" onclick=\"convertToInteractive('df-703fb472-696a-4cf7-a64b-726a37fc3cad')\"\n",
              "              title=\"Convert this dataframe to an interactive table.\"\n",
              "              style=\"display:none;\">\n",
              "        \n",
              "  <svg xmlns=\"http://www.w3.org/2000/svg\" height=\"24px\"viewBox=\"0 0 24 24\"\n",
              "       width=\"24px\">\n",
              "    <path d=\"M0 0h24v24H0V0z\" fill=\"none\"/>\n",
              "    <path d=\"M18.56 5.44l.94 2.06.94-2.06 2.06-.94-2.06-.94-.94-2.06-.94 2.06-2.06.94zm-11 1L8.5 8.5l.94-2.06 2.06-.94-2.06-.94L8.5 2.5l-.94 2.06-2.06.94zm10 10l.94 2.06.94-2.06 2.06-.94-2.06-.94-.94-2.06-.94 2.06-2.06.94z\"/><path d=\"M17.41 7.96l-1.37-1.37c-.4-.4-.92-.59-1.43-.59-.52 0-1.04.2-1.43.59L10.3 9.45l-7.72 7.72c-.78.78-.78 2.05 0 2.83L4 21.41c.39.39.9.59 1.41.59.51 0 1.02-.2 1.41-.59l7.78-7.78 2.81-2.81c.8-.78.8-2.07 0-2.86zM5.41 20L4 18.59l7.72-7.72 1.47 1.35L5.41 20z\"/>\n",
              "  </svg>\n",
              "      </button>\n",
              "      \n",
              "  <style>\n",
              "    .colab-df-container {\n",
              "      display:flex;\n",
              "      flex-wrap:wrap;\n",
              "      gap: 12px;\n",
              "    }\n",
              "\n",
              "    .colab-df-convert {\n",
              "      background-color: #E8F0FE;\n",
              "      border: none;\n",
              "      border-radius: 50%;\n",
              "      cursor: pointer;\n",
              "      display: none;\n",
              "      fill: #1967D2;\n",
              "      height: 32px;\n",
              "      padding: 0 0 0 0;\n",
              "      width: 32px;\n",
              "    }\n",
              "\n",
              "    .colab-df-convert:hover {\n",
              "      background-color: #E2EBFA;\n",
              "      box-shadow: 0px 1px 2px rgba(60, 64, 67, 0.3), 0px 1px 3px 1px rgba(60, 64, 67, 0.15);\n",
              "      fill: #174EA6;\n",
              "    }\n",
              "\n",
              "    [theme=dark] .colab-df-convert {\n",
              "      background-color: #3B4455;\n",
              "      fill: #D2E3FC;\n",
              "    }\n",
              "\n",
              "    [theme=dark] .colab-df-convert:hover {\n",
              "      background-color: #434B5C;\n",
              "      box-shadow: 0px 1px 3px 1px rgba(0, 0, 0, 0.15);\n",
              "      filter: drop-shadow(0px 1px 2px rgba(0, 0, 0, 0.3));\n",
              "      fill: #FFFFFF;\n",
              "    }\n",
              "  </style>\n",
              "\n",
              "      <script>\n",
              "        const buttonEl =\n",
              "          document.querySelector('#df-703fb472-696a-4cf7-a64b-726a37fc3cad button.colab-df-convert');\n",
              "        buttonEl.style.display =\n",
              "          google.colab.kernel.accessAllowed ? 'block' : 'none';\n",
              "\n",
              "        async function convertToInteractive(key) {\n",
              "          const element = document.querySelector('#df-703fb472-696a-4cf7-a64b-726a37fc3cad');\n",
              "          const dataTable =\n",
              "            await google.colab.kernel.invokeFunction('convertToInteractive',\n",
              "                                                     [key], {});\n",
              "          if (!dataTable) return;\n",
              "\n",
              "          const docLinkHtml = 'Like what you see? Visit the ' +\n",
              "            '<a target=\"_blank\" href=https://colab.research.google.com/notebooks/data_table.ipynb>data table notebook</a>'\n",
              "            + ' to learn more about interactive tables.';\n",
              "          element.innerHTML = '';\n",
              "          dataTable['output_type'] = 'display_data';\n",
              "          await google.colab.output.renderOutput(dataTable, element);\n",
              "          const docLink = document.createElement('div');\n",
              "          docLink.innerHTML = docLinkHtml;\n",
              "          element.appendChild(docLink);\n",
              "        }\n",
              "      </script>\n",
              "    </div>\n",
              "  </div>\n",
              "  "
            ]
          },
          "metadata": {},
          "execution_count": 44
        }
      ]
    },
    {
      "cell_type": "code",
      "source": [
        "df.reviews= df.reviews.str.split('|',expand=True)[1]\n",
        "df.head()"
      ],
      "metadata": {
        "colab": {
          "base_uri": "https://localhost:8080/",
          "height": 206
        },
        "id": "FWSNPoQFYULr",
        "outputId": "d0842e63-caee-4851-e1b2-60b7eaa35afb"
      },
      "execution_count": 45,
      "outputs": [
        {
          "output_type": "execute_result",
          "data": {
            "text/plain": [
              "                                             reviews recommendation\n",
              "0    The airline lost my luggage and was absolute...             no\n",
              "1    We booked on the BA website, round trip flig...             no\n",
              "2    First time flying with BA business class, ne...             no\n",
              "3   You can buy sandwiches and crisps but don't e...             no\n",
              "4    This is a two-for-one review covering econom...            yes"
            ],
            "text/html": [
              "\n",
              "  <div id=\"df-78e6267d-e4ca-4305-a4ff-316b9d649bda\">\n",
              "    <div class=\"colab-df-container\">\n",
              "      <div>\n",
              "<style scoped>\n",
              "    .dataframe tbody tr th:only-of-type {\n",
              "        vertical-align: middle;\n",
              "    }\n",
              "\n",
              "    .dataframe tbody tr th {\n",
              "        vertical-align: top;\n",
              "    }\n",
              "\n",
              "    .dataframe thead th {\n",
              "        text-align: right;\n",
              "    }\n",
              "</style>\n",
              "<table border=\"1\" class=\"dataframe\">\n",
              "  <thead>\n",
              "    <tr style=\"text-align: right;\">\n",
              "      <th></th>\n",
              "      <th>reviews</th>\n",
              "      <th>recommendation</th>\n",
              "    </tr>\n",
              "  </thead>\n",
              "  <tbody>\n",
              "    <tr>\n",
              "      <th>0</th>\n",
              "      <td>The airline lost my luggage and was absolute...</td>\n",
              "      <td>no</td>\n",
              "    </tr>\n",
              "    <tr>\n",
              "      <th>1</th>\n",
              "      <td>We booked on the BA website, round trip flig...</td>\n",
              "      <td>no</td>\n",
              "    </tr>\n",
              "    <tr>\n",
              "      <th>2</th>\n",
              "      <td>First time flying with BA business class, ne...</td>\n",
              "      <td>no</td>\n",
              "    </tr>\n",
              "    <tr>\n",
              "      <th>3</th>\n",
              "      <td>You can buy sandwiches and crisps but don't e...</td>\n",
              "      <td>no</td>\n",
              "    </tr>\n",
              "    <tr>\n",
              "      <th>4</th>\n",
              "      <td>This is a two-for-one review covering econom...</td>\n",
              "      <td>yes</td>\n",
              "    </tr>\n",
              "  </tbody>\n",
              "</table>\n",
              "</div>\n",
              "      <button class=\"colab-df-convert\" onclick=\"convertToInteractive('df-78e6267d-e4ca-4305-a4ff-316b9d649bda')\"\n",
              "              title=\"Convert this dataframe to an interactive table.\"\n",
              "              style=\"display:none;\">\n",
              "        \n",
              "  <svg xmlns=\"http://www.w3.org/2000/svg\" height=\"24px\"viewBox=\"0 0 24 24\"\n",
              "       width=\"24px\">\n",
              "    <path d=\"M0 0h24v24H0V0z\" fill=\"none\"/>\n",
              "    <path d=\"M18.56 5.44l.94 2.06.94-2.06 2.06-.94-2.06-.94-.94-2.06-.94 2.06-2.06.94zm-11 1L8.5 8.5l.94-2.06 2.06-.94-2.06-.94L8.5 2.5l-.94 2.06-2.06.94zm10 10l.94 2.06.94-2.06 2.06-.94-2.06-.94-.94-2.06-.94 2.06-2.06.94z\"/><path d=\"M17.41 7.96l-1.37-1.37c-.4-.4-.92-.59-1.43-.59-.52 0-1.04.2-1.43.59L10.3 9.45l-7.72 7.72c-.78.78-.78 2.05 0 2.83L4 21.41c.39.39.9.59 1.41.59.51 0 1.02-.2 1.41-.59l7.78-7.78 2.81-2.81c.8-.78.8-2.07 0-2.86zM5.41 20L4 18.59l7.72-7.72 1.47 1.35L5.41 20z\"/>\n",
              "  </svg>\n",
              "      </button>\n",
              "      \n",
              "  <style>\n",
              "    .colab-df-container {\n",
              "      display:flex;\n",
              "      flex-wrap:wrap;\n",
              "      gap: 12px;\n",
              "    }\n",
              "\n",
              "    .colab-df-convert {\n",
              "      background-color: #E8F0FE;\n",
              "      border: none;\n",
              "      border-radius: 50%;\n",
              "      cursor: pointer;\n",
              "      display: none;\n",
              "      fill: #1967D2;\n",
              "      height: 32px;\n",
              "      padding: 0 0 0 0;\n",
              "      width: 32px;\n",
              "    }\n",
              "\n",
              "    .colab-df-convert:hover {\n",
              "      background-color: #E2EBFA;\n",
              "      box-shadow: 0px 1px 2px rgba(60, 64, 67, 0.3), 0px 1px 3px 1px rgba(60, 64, 67, 0.15);\n",
              "      fill: #174EA6;\n",
              "    }\n",
              "\n",
              "    [theme=dark] .colab-df-convert {\n",
              "      background-color: #3B4455;\n",
              "      fill: #D2E3FC;\n",
              "    }\n",
              "\n",
              "    [theme=dark] .colab-df-convert:hover {\n",
              "      background-color: #434B5C;\n",
              "      box-shadow: 0px 1px 3px 1px rgba(0, 0, 0, 0.15);\n",
              "      filter: drop-shadow(0px 1px 2px rgba(0, 0, 0, 0.3));\n",
              "      fill: #FFFFFF;\n",
              "    }\n",
              "  </style>\n",
              "\n",
              "      <script>\n",
              "        const buttonEl =\n",
              "          document.querySelector('#df-78e6267d-e4ca-4305-a4ff-316b9d649bda button.colab-df-convert');\n",
              "        buttonEl.style.display =\n",
              "          google.colab.kernel.accessAllowed ? 'block' : 'none';\n",
              "\n",
              "        async function convertToInteractive(key) {\n",
              "          const element = document.querySelector('#df-78e6267d-e4ca-4305-a4ff-316b9d649bda');\n",
              "          const dataTable =\n",
              "            await google.colab.kernel.invokeFunction('convertToInteractive',\n",
              "                                                     [key], {});\n",
              "          if (!dataTable) return;\n",
              "\n",
              "          const docLinkHtml = 'Like what you see? Visit the ' +\n",
              "            '<a target=\"_blank\" href=https://colab.research.google.com/notebooks/data_table.ipynb>data table notebook</a>'\n",
              "            + ' to learn more about interactive tables.';\n",
              "          element.innerHTML = '';\n",
              "          dataTable['output_type'] = 'display_data';\n",
              "          await google.colab.output.renderOutput(dataTable, element);\n",
              "          const docLink = document.createElement('div');\n",
              "          docLink.innerHTML = docLinkHtml;\n",
              "          element.appendChild(docLink);\n",
              "        }\n",
              "      </script>\n",
              "    </div>\n",
              "  </div>\n",
              "  "
            ]
          },
          "metadata": {},
          "execution_count": 45
        }
      ]
    },
    {
      "cell_type": "code",
      "source": [
        "df.reviews.value_counts()"
      ],
      "metadata": {
        "colab": {
          "base_uri": "https://localhost:8080/"
        },
        "id": "JWfVePuQwNB5",
        "outputId": "2f27a2bd-f95d-4771-b5c5-a8a0a62b8591"
      },
      "execution_count": 46,
      "outputs": [
        {
          "output_type": "execute_result",
          "data": {
            "text/plain": [
              "  The airline lost my luggage and was absolutely awful throughout the entire trip. They gave me no updates, their website sucks, and it was nearly impossible to get someone on the phone. They finally delivered my luggage to my hotel after i had left to go back to the US, 5 days after I told them to ship it back to the US. Now, I’ve been calling everyday begging them to get my bag back to me. They appease me on the phone, tell me they’re fixing it, but nothing changes. The hotel can’t get in touch with them and they haven’t even tried to pick to bag back up. Several times, when I called I got a message saying they were not answering due to too many complaints and calls and to “call back later”.                                                                                                                                                                                                                                                                                                                                                                                                                                                                                                                                                                                                                                                                                                                                                                                                                                                                                                                                                                                                                                                                                                                                                                                             1\n",
              "  Flew last week London to Frankfurt. No light refreshments complimentary, crew busy operating Card terminals etc, makes less time to be nice to passengers. Then asking what was complimentary informed \"tap water\" and it came no ice or offer.  On the return I was given a mid seat, asking if there was a free aisle I was told no. Waiting till all boarded I sat in a free aisle. The airline continues to pretend to have high standards but it slips further and further into the depths of I will book with BA if no other airlines available.                                                                                                                                                                                                                                                                                                                                                                                                                                                                                                                                                                                                                                                                                                                                                                                                                                                                                                                                                                                                                                                                                                                                                                                                                                                                                                                                                                   1\n",
              "  Florence to Bristol. A positive first experience and I will try to fly BA in the future. When I booked the flight for myself and my 11 and 13 year olds I was automatically allocated seats (no charge), 23kg of checked luggage included at no additional charge yet the flights still worked out the cheapest. A few hours before the flight, during online check-in, I noticed my daughter's name mispelt on the ticket. I telephoned BA's 24 hour helpline and the ticket was changed and reissued within an hour and I received a call back with an update part way through the process (no charge and no hassle). All staff from customer services to ground staff to in-flight crew were friendly. Staff on the return flight went out of their way to try and help a young mum with an upset child. We were given a meal with water and a further drink on our 2h 20m flight. On this flight to Bristol everything is included in your ticket. We had soft drinks but a couple in-front had G&Ts. Our meal was salmon with couscous, bread, cheese and a mint. On the way back there was a choice of falafel and couscous or chicken salad with a chocolate brownie. The meals were actually really nice. Both our flights did depart late for different and, what I believe were, unavoidable reasons but we were given adequate explanations and our flight out to Italy still arrived early. Some explanation before boarding the return flight might have been helpful although nobody seemed concerned and it was passengers who hadn't got themselves to the gate that further held the flight up. I wasn't bothered which airline I flew with. My criteria were that I could fly from a local airport as cheaply as possible and BA came in cheaper than any of the other airlines for this particular flight. My criteria will still exist but I will certainly be looking at BA first in the future.    1\n",
              "  Managed to get upper deck which is rare flying from London to Philadelphia. Cabin was unclean with earbuds and paper on floor from previous flight. No hello for Gold status. It became clear British Airways are some sort of work to rule. One stewardess for all upstairs. Three hours to serve dinner which was bland and tasteless. Cabin Service Director never appeared once despite my TV screen refusing to stay in open position. Never ever again will I pay thousands of pounds for bland insulting service.                                                                                                                                                                                                                                                                                                                                                                                                                                                                                                                                                                                                                                                                                                                                                                                                                                                                                                                                                                                                                                                                                                                                                                                                                                                                                                                                                                                                 1\n",
              "  New York to Cape Town via London Heathrow. A huge disappointment. Even worse when you put it in context of what British Airways used to be. We decided to fly First  because I can't stand Club world (backward seats, forward facing seats almost on the aisle),  claustrophic, poor overhead storage on some planes. Seats were  narrow, poor seat controls (unable to independently control the different seat axes, foot rest had to be set manually), American Airlines and Cathay Pacific new business class products are far better than BA first class. AVOD great on one leg with the new Pansonic system, dreadful on the 2nd leg with the old system.  Food was mediocre at best. Breakfast JFK to LHR was passable, dinner LHR to CPT passible - wife's fish was okay my hamburger was inedible. Meal service slow. Cabin Crew from JFK was excellent, to Cape Town was passable. Changing planes in Heathrow (T5-T3) a nightmar.. I am OneWorld Emerald, never Again                                                                                                                                                                                                                                                                                                                                                                                                                                                                                                                                                                                                                                                                                                                                                                                                                                                                                                                                        1\n",
              "                                                                                                                                                                                                                                                                                                                                                                                                                                                                                                                                                                                                                                                                                                                                                                                                                                                                                                                                                                                                                                                                                                                                                                                                                                                                                                                                                                                                                                                                                                                                                                                                                                                                                                                                                                                                                                                                                                                          ..\n",
              "  The seating configuration meant that we were packed in like sardines. The seats are aging and uncomfortable. The forward-backward configuration is the most stupid I have seen. The cabin had 8 seats to a row and about 100 people packed into a crowded and noisy cabin. To book a specific seat you have to pay extra or try your luck 24 hours ahead of the flight.                                                                                                                                                                                                                                                                                                                                                                                                                                                                                                                                                                                                                                                                                                                                                                                                                                                                                                                                                                                                                                                                                                                                                                                                                                                                                                                                                                                                                                                                                                                                                  1\n",
              "  London to Glasgow. BA customer service is unquestionably the least helpful, least accommodating, least friendly and least responsive so called service available. They clearly train their staff in the multitude of ways to frustrate their customers. I will try to avoid this airline from this point on.                                                                                                                                                                                                                                                                                                                                                                                                                                                                                                                                                                                                                                                                                                                                                                                                                                                                                                                                                                                                                                                                                                                                                                                                                                                                                                                                                                                                                                                                                                                                                                                                             1\n",
              "  London to Munich. The plane is A320. The seat is more comfortable than other airlines A320. It has a very comfortable headrest and it is made from leather. There is enough legroom. However there is no free food and drinks provided.                                                                                                                                                                                                                                                                                                                                                                                                                                                                                                                                                                                                                                                                                                                                                                                                                                                                                                                                                                                                                                                                                                                                                                                                                                                                                                                                                                                                                                                                                                                                                                                                                                                                                  1\n",
              "  Gatwick to Orlando. Excellent customer service. On arriving at Gatwick airport and checking in I learn that my interpretation of the USA esta rules was wrong and that I would have to apply for a new esta valid for the duration of my trip. This took longer than it should have and BA kept check in open for my party and a member of their check in staff came and found Me in the terminal and got our bags checked in and our boarding passes and got us rushed down to our waiting aircraft. The aircraft was clean and despite my best efforts we left on time. During the flight drinks were served and two food services. Towards the end of the flight I developed a bad nose bleed the stewardess that attended me was very kind and caring. So despite my best attempts to be a bad passenger BA really came through for me. The return journey went without a hitch and BA's check in at Orlando was quick and easy.                                                                                                                                                                                                                                                                                                                                                                                                                                                                                                                                                                                                                                                                                                                                                                                                                                                                                                                                                                                     1\n",
              "  Gatwick to Amsterdam in Business class was truly the most uncomfortable flight of my life. I thought that with British Airways I might expect something a little better - what a stupid mistake. The Business class seats are standard economy class, with middle seat empty. Food for breakfast was okay although not enough if you were hungry. But luckily they provide champagne during the flight.                                                                                                                                                                                                                                                                                                                                                                                                                                                                                                                                                                                                                                                                                                                                                                                                                                                                                                                                                                                                                                                                                                                                                                                                                                                                                                                                                                                                                                                                                                                  1\n",
              "Name: reviews, Length: 2060, dtype: int64"
            ]
          },
          "metadata": {},
          "execution_count": 46
        }
      ]
    },
    {
      "cell_type": "code",
      "source": [
        "import re\n",
        "import pandas as pd\n",
        "from nltk.corpus import stopwords\n",
        "from wordcloud import WordCloud, STOPWORDS\n",
        "import spacy"
      ],
      "metadata": {
        "id": "ZFc04VBEZePz"
      },
      "execution_count": 47,
      "outputs": []
    },
    {
      "cell_type": "code",
      "source": [
        "nlp = spacy.load('en_core_web_sm', disable=['parser', 'ner'])"
      ],
      "metadata": {
        "id": "sTMvNG4xvRTZ"
      },
      "execution_count": 48,
      "outputs": []
    },
    {
      "cell_type": "code",
      "source": [
        "df['reviews'] = df['reviews'].str.replace('[^\\w\\s]','')\n",
        "df['reviews'].head()"
      ],
      "metadata": {
        "colab": {
          "base_uri": "https://localhost:8080/"
        },
        "id": "Uxyw8Qt7v8a6",
        "outputId": "b53d9ace-2684-47b1-d7d7-65fa9ca0bcf5"
      },
      "execution_count": 49,
      "outputs": [
        {
          "output_type": "stream",
          "name": "stderr",
          "text": [
            "<ipython-input-49-4367dc61ced3>:1: FutureWarning: The default value of regex will change from True to False in a future version.\n",
            "  df['reviews'] = df['reviews'].str.replace('[^\\w\\s]','')\n"
          ]
        },
        {
          "output_type": "execute_result",
          "data": {
            "text/plain": [
              "0      The airline lost my luggage and was absolute...\n",
              "1      We booked on the BA website round trip fligh...\n",
              "2      First time flying with BA business class nev...\n",
              "3     You can buy sandwiches and crisps but dont ex...\n",
              "4      This is a twoforone review covering economy ...\n",
              "Name: reviews, dtype: object"
            ]
          },
          "metadata": {},
          "execution_count": 49
        }
      ]
    },
    {
      "cell_type": "code",
      "source": [
        "df.head()"
      ],
      "metadata": {
        "colab": {
          "base_uri": "https://localhost:8080/",
          "height": 206
        },
        "id": "rKJCFYi2w7ma",
        "outputId": "97dd8aec-35e1-4432-e24b-bae36437173d"
      },
      "execution_count": 50,
      "outputs": [
        {
          "output_type": "execute_result",
          "data": {
            "text/plain": [
              "                                             reviews recommendation\n",
              "0    The airline lost my luggage and was absolute...             no\n",
              "1    We booked on the BA website round trip fligh...             no\n",
              "2    First time flying with BA business class nev...             no\n",
              "3   You can buy sandwiches and crisps but dont ex...             no\n",
              "4    This is a twoforone review covering economy ...            yes"
            ],
            "text/html": [
              "\n",
              "  <div id=\"df-48efa1bb-a7f2-4cb1-aaae-7513d8f3b1a5\">\n",
              "    <div class=\"colab-df-container\">\n",
              "      <div>\n",
              "<style scoped>\n",
              "    .dataframe tbody tr th:only-of-type {\n",
              "        vertical-align: middle;\n",
              "    }\n",
              "\n",
              "    .dataframe tbody tr th {\n",
              "        vertical-align: top;\n",
              "    }\n",
              "\n",
              "    .dataframe thead th {\n",
              "        text-align: right;\n",
              "    }\n",
              "</style>\n",
              "<table border=\"1\" class=\"dataframe\">\n",
              "  <thead>\n",
              "    <tr style=\"text-align: right;\">\n",
              "      <th></th>\n",
              "      <th>reviews</th>\n",
              "      <th>recommendation</th>\n",
              "    </tr>\n",
              "  </thead>\n",
              "  <tbody>\n",
              "    <tr>\n",
              "      <th>0</th>\n",
              "      <td>The airline lost my luggage and was absolute...</td>\n",
              "      <td>no</td>\n",
              "    </tr>\n",
              "    <tr>\n",
              "      <th>1</th>\n",
              "      <td>We booked on the BA website round trip fligh...</td>\n",
              "      <td>no</td>\n",
              "    </tr>\n",
              "    <tr>\n",
              "      <th>2</th>\n",
              "      <td>First time flying with BA business class nev...</td>\n",
              "      <td>no</td>\n",
              "    </tr>\n",
              "    <tr>\n",
              "      <th>3</th>\n",
              "      <td>You can buy sandwiches and crisps but dont ex...</td>\n",
              "      <td>no</td>\n",
              "    </tr>\n",
              "    <tr>\n",
              "      <th>4</th>\n",
              "      <td>This is a twoforone review covering economy ...</td>\n",
              "      <td>yes</td>\n",
              "    </tr>\n",
              "  </tbody>\n",
              "</table>\n",
              "</div>\n",
              "      <button class=\"colab-df-convert\" onclick=\"convertToInteractive('df-48efa1bb-a7f2-4cb1-aaae-7513d8f3b1a5')\"\n",
              "              title=\"Convert this dataframe to an interactive table.\"\n",
              "              style=\"display:none;\">\n",
              "        \n",
              "  <svg xmlns=\"http://www.w3.org/2000/svg\" height=\"24px\"viewBox=\"0 0 24 24\"\n",
              "       width=\"24px\">\n",
              "    <path d=\"M0 0h24v24H0V0z\" fill=\"none\"/>\n",
              "    <path d=\"M18.56 5.44l.94 2.06.94-2.06 2.06-.94-2.06-.94-.94-2.06-.94 2.06-2.06.94zm-11 1L8.5 8.5l.94-2.06 2.06-.94-2.06-.94L8.5 2.5l-.94 2.06-2.06.94zm10 10l.94 2.06.94-2.06 2.06-.94-2.06-.94-.94-2.06-.94 2.06-2.06.94z\"/><path d=\"M17.41 7.96l-1.37-1.37c-.4-.4-.92-.59-1.43-.59-.52 0-1.04.2-1.43.59L10.3 9.45l-7.72 7.72c-.78.78-.78 2.05 0 2.83L4 21.41c.39.39.9.59 1.41.59.51 0 1.02-.2 1.41-.59l7.78-7.78 2.81-2.81c.8-.78.8-2.07 0-2.86zM5.41 20L4 18.59l7.72-7.72 1.47 1.35L5.41 20z\"/>\n",
              "  </svg>\n",
              "      </button>\n",
              "      \n",
              "  <style>\n",
              "    .colab-df-container {\n",
              "      display:flex;\n",
              "      flex-wrap:wrap;\n",
              "      gap: 12px;\n",
              "    }\n",
              "\n",
              "    .colab-df-convert {\n",
              "      background-color: #E8F0FE;\n",
              "      border: none;\n",
              "      border-radius: 50%;\n",
              "      cursor: pointer;\n",
              "      display: none;\n",
              "      fill: #1967D2;\n",
              "      height: 32px;\n",
              "      padding: 0 0 0 0;\n",
              "      width: 32px;\n",
              "    }\n",
              "\n",
              "    .colab-df-convert:hover {\n",
              "      background-color: #E2EBFA;\n",
              "      box-shadow: 0px 1px 2px rgba(60, 64, 67, 0.3), 0px 1px 3px 1px rgba(60, 64, 67, 0.15);\n",
              "      fill: #174EA6;\n",
              "    }\n",
              "\n",
              "    [theme=dark] .colab-df-convert {\n",
              "      background-color: #3B4455;\n",
              "      fill: #D2E3FC;\n",
              "    }\n",
              "\n",
              "    [theme=dark] .colab-df-convert:hover {\n",
              "      background-color: #434B5C;\n",
              "      box-shadow: 0px 1px 3px 1px rgba(0, 0, 0, 0.15);\n",
              "      filter: drop-shadow(0px 1px 2px rgba(0, 0, 0, 0.3));\n",
              "      fill: #FFFFFF;\n",
              "    }\n",
              "  </style>\n",
              "\n",
              "      <script>\n",
              "        const buttonEl =\n",
              "          document.querySelector('#df-48efa1bb-a7f2-4cb1-aaae-7513d8f3b1a5 button.colab-df-convert');\n",
              "        buttonEl.style.display =\n",
              "          google.colab.kernel.accessAllowed ? 'block' : 'none';\n",
              "\n",
              "        async function convertToInteractive(key) {\n",
              "          const element = document.querySelector('#df-48efa1bb-a7f2-4cb1-aaae-7513d8f3b1a5');\n",
              "          const dataTable =\n",
              "            await google.colab.kernel.invokeFunction('convertToInteractive',\n",
              "                                                     [key], {});\n",
              "          if (!dataTable) return;\n",
              "\n",
              "          const docLinkHtml = 'Like what you see? Visit the ' +\n",
              "            '<a target=\"_blank\" href=https://colab.research.google.com/notebooks/data_table.ipynb>data table notebook</a>'\n",
              "            + ' to learn more about interactive tables.';\n",
              "          element.innerHTML = '';\n",
              "          dataTable['output_type'] = 'display_data';\n",
              "          await google.colab.output.renderOutput(dataTable, element);\n",
              "          const docLink = document.createElement('div');\n",
              "          docLink.innerHTML = docLinkHtml;\n",
              "          element.appendChild(docLink);\n",
              "        }\n",
              "      </script>\n",
              "    </div>\n",
              "  </div>\n",
              "  "
            ]
          },
          "metadata": {},
          "execution_count": 50
        }
      ]
    },
    {
      "cell_type": "code",
      "source": [
        "df.describe()"
      ],
      "metadata": {
        "colab": {
          "base_uri": "https://localhost:8080/",
          "height": 175
        },
        "id": "65xdUlTMxAoJ",
        "outputId": "d6e4fafe-d5d1-4a3e-b5cf-b837be116821"
      },
      "execution_count": 51,
      "outputs": [
        {
          "output_type": "execute_result",
          "data": {
            "text/plain": [
              "                                                  reviews recommendation\n",
              "count                                                2060           3000\n",
              "unique                                               2060              2\n",
              "top       The airline lost my luggage and was absolute...             no\n",
              "freq                                                    1           1857"
            ],
            "text/html": [
              "\n",
              "  <div id=\"df-50334284-9b57-4482-8cfe-82273aa006d5\">\n",
              "    <div class=\"colab-df-container\">\n",
              "      <div>\n",
              "<style scoped>\n",
              "    .dataframe tbody tr th:only-of-type {\n",
              "        vertical-align: middle;\n",
              "    }\n",
              "\n",
              "    .dataframe tbody tr th {\n",
              "        vertical-align: top;\n",
              "    }\n",
              "\n",
              "    .dataframe thead th {\n",
              "        text-align: right;\n",
              "    }\n",
              "</style>\n",
              "<table border=\"1\" class=\"dataframe\">\n",
              "  <thead>\n",
              "    <tr style=\"text-align: right;\">\n",
              "      <th></th>\n",
              "      <th>reviews</th>\n",
              "      <th>recommendation</th>\n",
              "    </tr>\n",
              "  </thead>\n",
              "  <tbody>\n",
              "    <tr>\n",
              "      <th>count</th>\n",
              "      <td>2060</td>\n",
              "      <td>3000</td>\n",
              "    </tr>\n",
              "    <tr>\n",
              "      <th>unique</th>\n",
              "      <td>2060</td>\n",
              "      <td>2</td>\n",
              "    </tr>\n",
              "    <tr>\n",
              "      <th>top</th>\n",
              "      <td>The airline lost my luggage and was absolute...</td>\n",
              "      <td>no</td>\n",
              "    </tr>\n",
              "    <tr>\n",
              "      <th>freq</th>\n",
              "      <td>1</td>\n",
              "      <td>1857</td>\n",
              "    </tr>\n",
              "  </tbody>\n",
              "</table>\n",
              "</div>\n",
              "      <button class=\"colab-df-convert\" onclick=\"convertToInteractive('df-50334284-9b57-4482-8cfe-82273aa006d5')\"\n",
              "              title=\"Convert this dataframe to an interactive table.\"\n",
              "              style=\"display:none;\">\n",
              "        \n",
              "  <svg xmlns=\"http://www.w3.org/2000/svg\" height=\"24px\"viewBox=\"0 0 24 24\"\n",
              "       width=\"24px\">\n",
              "    <path d=\"M0 0h24v24H0V0z\" fill=\"none\"/>\n",
              "    <path d=\"M18.56 5.44l.94 2.06.94-2.06 2.06-.94-2.06-.94-.94-2.06-.94 2.06-2.06.94zm-11 1L8.5 8.5l.94-2.06 2.06-.94-2.06-.94L8.5 2.5l-.94 2.06-2.06.94zm10 10l.94 2.06.94-2.06 2.06-.94-2.06-.94-.94-2.06-.94 2.06-2.06.94z\"/><path d=\"M17.41 7.96l-1.37-1.37c-.4-.4-.92-.59-1.43-.59-.52 0-1.04.2-1.43.59L10.3 9.45l-7.72 7.72c-.78.78-.78 2.05 0 2.83L4 21.41c.39.39.9.59 1.41.59.51 0 1.02-.2 1.41-.59l7.78-7.78 2.81-2.81c.8-.78.8-2.07 0-2.86zM5.41 20L4 18.59l7.72-7.72 1.47 1.35L5.41 20z\"/>\n",
              "  </svg>\n",
              "      </button>\n",
              "      \n",
              "  <style>\n",
              "    .colab-df-container {\n",
              "      display:flex;\n",
              "      flex-wrap:wrap;\n",
              "      gap: 12px;\n",
              "    }\n",
              "\n",
              "    .colab-df-convert {\n",
              "      background-color: #E8F0FE;\n",
              "      border: none;\n",
              "      border-radius: 50%;\n",
              "      cursor: pointer;\n",
              "      display: none;\n",
              "      fill: #1967D2;\n",
              "      height: 32px;\n",
              "      padding: 0 0 0 0;\n",
              "      width: 32px;\n",
              "    }\n",
              "\n",
              "    .colab-df-convert:hover {\n",
              "      background-color: #E2EBFA;\n",
              "      box-shadow: 0px 1px 2px rgba(60, 64, 67, 0.3), 0px 1px 3px 1px rgba(60, 64, 67, 0.15);\n",
              "      fill: #174EA6;\n",
              "    }\n",
              "\n",
              "    [theme=dark] .colab-df-convert {\n",
              "      background-color: #3B4455;\n",
              "      fill: #D2E3FC;\n",
              "    }\n",
              "\n",
              "    [theme=dark] .colab-df-convert:hover {\n",
              "      background-color: #434B5C;\n",
              "      box-shadow: 0px 1px 3px 1px rgba(0, 0, 0, 0.15);\n",
              "      filter: drop-shadow(0px 1px 2px rgba(0, 0, 0, 0.3));\n",
              "      fill: #FFFFFF;\n",
              "    }\n",
              "  </style>\n",
              "\n",
              "      <script>\n",
              "        const buttonEl =\n",
              "          document.querySelector('#df-50334284-9b57-4482-8cfe-82273aa006d5 button.colab-df-convert');\n",
              "        buttonEl.style.display =\n",
              "          google.colab.kernel.accessAllowed ? 'block' : 'none';\n",
              "\n",
              "        async function convertToInteractive(key) {\n",
              "          const element = document.querySelector('#df-50334284-9b57-4482-8cfe-82273aa006d5');\n",
              "          const dataTable =\n",
              "            await google.colab.kernel.invokeFunction('convertToInteractive',\n",
              "                                                     [key], {});\n",
              "          if (!dataTable) return;\n",
              "\n",
              "          const docLinkHtml = 'Like what you see? Visit the ' +\n",
              "            '<a target=\"_blank\" href=https://colab.research.google.com/notebooks/data_table.ipynb>data table notebook</a>'\n",
              "            + ' to learn more about interactive tables.';\n",
              "          element.innerHTML = '';\n",
              "          dataTable['output_type'] = 'display_data';\n",
              "          await google.colab.output.renderOutput(dataTable, element);\n",
              "          const docLink = document.createElement('div');\n",
              "          docLink.innerHTML = docLinkHtml;\n",
              "          element.appendChild(docLink);\n",
              "        }\n",
              "      </script>\n",
              "    </div>\n",
              "  </div>\n",
              "  "
            ]
          },
          "metadata": {},
          "execution_count": 51
        }
      ]
    },
    {
      "cell_type": "code",
      "source": [
        "df.isnull().sum()"
      ],
      "metadata": {
        "colab": {
          "base_uri": "https://localhost:8080/"
        },
        "id": "x0vCNpm0xsoc",
        "outputId": "3ca71b1e-d9e1-444f-88b8-fe88069382f4"
      },
      "execution_count": 52,
      "outputs": [
        {
          "output_type": "execute_result",
          "data": {
            "text/plain": [
              "reviews           940\n",
              "recommendation      0\n",
              "dtype: int64"
            ]
          },
          "metadata": {},
          "execution_count": 52
        }
      ]
    },
    {
      "cell_type": "code",
      "source": [
        "df.dropna(inplace=True)"
      ],
      "metadata": {
        "id": "P5kCNAghx5cu"
      },
      "execution_count": 53,
      "outputs": []
    },
    {
      "cell_type": "code",
      "source": [
        "df['reviews'] = df['reviews'].apply(lambda x: \" \".join(x.lower() for x in x.split()))\n",
        "df.head()"
      ],
      "metadata": {
        "colab": {
          "base_uri": "https://localhost:8080/",
          "height": 206
        },
        "id": "O5fp59Q2yBeK",
        "outputId": "0099820d-04b3-4d4b-9d42-3ca62ca5846d"
      },
      "execution_count": 54,
      "outputs": [
        {
          "output_type": "execute_result",
          "data": {
            "text/plain": [
              "                                             reviews recommendation\n",
              "0  the airline lost my luggage and was absolutely...             no\n",
              "1  we booked on the ba website round trip flights...             no\n",
              "2  first time flying with ba business class never...             no\n",
              "3  you can buy sandwiches and crisps but dont exp...             no\n",
              "4  this is a twoforone review covering economy an...            yes"
            ],
            "text/html": [
              "\n",
              "  <div id=\"df-5cf46cea-5509-4cfc-acd7-5bc54eb489d4\">\n",
              "    <div class=\"colab-df-container\">\n",
              "      <div>\n",
              "<style scoped>\n",
              "    .dataframe tbody tr th:only-of-type {\n",
              "        vertical-align: middle;\n",
              "    }\n",
              "\n",
              "    .dataframe tbody tr th {\n",
              "        vertical-align: top;\n",
              "    }\n",
              "\n",
              "    .dataframe thead th {\n",
              "        text-align: right;\n",
              "    }\n",
              "</style>\n",
              "<table border=\"1\" class=\"dataframe\">\n",
              "  <thead>\n",
              "    <tr style=\"text-align: right;\">\n",
              "      <th></th>\n",
              "      <th>reviews</th>\n",
              "      <th>recommendation</th>\n",
              "    </tr>\n",
              "  </thead>\n",
              "  <tbody>\n",
              "    <tr>\n",
              "      <th>0</th>\n",
              "      <td>the airline lost my luggage and was absolutely...</td>\n",
              "      <td>no</td>\n",
              "    </tr>\n",
              "    <tr>\n",
              "      <th>1</th>\n",
              "      <td>we booked on the ba website round trip flights...</td>\n",
              "      <td>no</td>\n",
              "    </tr>\n",
              "    <tr>\n",
              "      <th>2</th>\n",
              "      <td>first time flying with ba business class never...</td>\n",
              "      <td>no</td>\n",
              "    </tr>\n",
              "    <tr>\n",
              "      <th>3</th>\n",
              "      <td>you can buy sandwiches and crisps but dont exp...</td>\n",
              "      <td>no</td>\n",
              "    </tr>\n",
              "    <tr>\n",
              "      <th>4</th>\n",
              "      <td>this is a twoforone review covering economy an...</td>\n",
              "      <td>yes</td>\n",
              "    </tr>\n",
              "  </tbody>\n",
              "</table>\n",
              "</div>\n",
              "      <button class=\"colab-df-convert\" onclick=\"convertToInteractive('df-5cf46cea-5509-4cfc-acd7-5bc54eb489d4')\"\n",
              "              title=\"Convert this dataframe to an interactive table.\"\n",
              "              style=\"display:none;\">\n",
              "        \n",
              "  <svg xmlns=\"http://www.w3.org/2000/svg\" height=\"24px\"viewBox=\"0 0 24 24\"\n",
              "       width=\"24px\">\n",
              "    <path d=\"M0 0h24v24H0V0z\" fill=\"none\"/>\n",
              "    <path d=\"M18.56 5.44l.94 2.06.94-2.06 2.06-.94-2.06-.94-.94-2.06-.94 2.06-2.06.94zm-11 1L8.5 8.5l.94-2.06 2.06-.94-2.06-.94L8.5 2.5l-.94 2.06-2.06.94zm10 10l.94 2.06.94-2.06 2.06-.94-2.06-.94-.94-2.06-.94 2.06-2.06.94z\"/><path d=\"M17.41 7.96l-1.37-1.37c-.4-.4-.92-.59-1.43-.59-.52 0-1.04.2-1.43.59L10.3 9.45l-7.72 7.72c-.78.78-.78 2.05 0 2.83L4 21.41c.39.39.9.59 1.41.59.51 0 1.02-.2 1.41-.59l7.78-7.78 2.81-2.81c.8-.78.8-2.07 0-2.86zM5.41 20L4 18.59l7.72-7.72 1.47 1.35L5.41 20z\"/>\n",
              "  </svg>\n",
              "      </button>\n",
              "      \n",
              "  <style>\n",
              "    .colab-df-container {\n",
              "      display:flex;\n",
              "      flex-wrap:wrap;\n",
              "      gap: 12px;\n",
              "    }\n",
              "\n",
              "    .colab-df-convert {\n",
              "      background-color: #E8F0FE;\n",
              "      border: none;\n",
              "      border-radius: 50%;\n",
              "      cursor: pointer;\n",
              "      display: none;\n",
              "      fill: #1967D2;\n",
              "      height: 32px;\n",
              "      padding: 0 0 0 0;\n",
              "      width: 32px;\n",
              "    }\n",
              "\n",
              "    .colab-df-convert:hover {\n",
              "      background-color: #E2EBFA;\n",
              "      box-shadow: 0px 1px 2px rgba(60, 64, 67, 0.3), 0px 1px 3px 1px rgba(60, 64, 67, 0.15);\n",
              "      fill: #174EA6;\n",
              "    }\n",
              "\n",
              "    [theme=dark] .colab-df-convert {\n",
              "      background-color: #3B4455;\n",
              "      fill: #D2E3FC;\n",
              "    }\n",
              "\n",
              "    [theme=dark] .colab-df-convert:hover {\n",
              "      background-color: #434B5C;\n",
              "      box-shadow: 0px 1px 3px 1px rgba(0, 0, 0, 0.15);\n",
              "      filter: drop-shadow(0px 1px 2px rgba(0, 0, 0, 0.3));\n",
              "      fill: #FFFFFF;\n",
              "    }\n",
              "  </style>\n",
              "\n",
              "      <script>\n",
              "        const buttonEl =\n",
              "          document.querySelector('#df-5cf46cea-5509-4cfc-acd7-5bc54eb489d4 button.colab-df-convert');\n",
              "        buttonEl.style.display =\n",
              "          google.colab.kernel.accessAllowed ? 'block' : 'none';\n",
              "\n",
              "        async function convertToInteractive(key) {\n",
              "          const element = document.querySelector('#df-5cf46cea-5509-4cfc-acd7-5bc54eb489d4');\n",
              "          const dataTable =\n",
              "            await google.colab.kernel.invokeFunction('convertToInteractive',\n",
              "                                                     [key], {});\n",
              "          if (!dataTable) return;\n",
              "\n",
              "          const docLinkHtml = 'Like what you see? Visit the ' +\n",
              "            '<a target=\"_blank\" href=https://colab.research.google.com/notebooks/data_table.ipynb>data table notebook</a>'\n",
              "            + ' to learn more about interactive tables.';\n",
              "          element.innerHTML = '';\n",
              "          dataTable['output_type'] = 'display_data';\n",
              "          await google.colab.output.renderOutput(dataTable, element);\n",
              "          const docLink = document.createElement('div');\n",
              "          docLink.innerHTML = docLinkHtml;\n",
              "          element.appendChild(docLink);\n",
              "        }\n",
              "      </script>\n",
              "    </div>\n",
              "  </div>\n",
              "  "
            ]
          },
          "metadata": {},
          "execution_count": 54
        }
      ]
    },
    {
      "cell_type": "code",
      "source": [
        "# import nltk\n",
        "# nltk.download('stopwords')\n",
        "# stop = stopwords.words('english')\n",
        "# df['reviews'] = df['reviews'].apply(lambda x: \" \".join(x for x in x.split() if x not in stop))\n",
        "# df.head(20)"
      ],
      "metadata": {
        "id": "MeR6uwzgyQz9"
      },
      "execution_count": 55,
      "outputs": []
    },
    {
      "cell_type": "code",
      "source": [
        "def space(comment):\n",
        "    doc = nlp(comment)\n",
        "    return \" \".join([token.lemma_ for token in doc])\n",
        "df['reviews']= df['reviews'].apply(space)\n",
        "df.head(20)\n"
      ],
      "metadata": {
        "colab": {
          "base_uri": "https://localhost:8080/",
          "height": 677
        },
        "id": "1EL8c3GSyc_t",
        "outputId": "0c4362fe-000c-49da-8b96-afffffe6b3d8"
      },
      "execution_count": 56,
      "outputs": [
        {
          "output_type": "execute_result",
          "data": {
            "text/plain": [
              "                                              reviews recommendation\n",
              "0   the airline lose my luggage and be absolutely ...             no\n",
              "1   we book on the ba website round trip flight fr...             no\n",
              "2   first time fly with ba business class never ag...             no\n",
              "3   you can buy sandwich and crisp but do not expe...             no\n",
              "4   this be a twoforone review cover economy and b...            yes\n",
              "5   absolutely horrible airline communication be t...             no\n",
              "6   have experienced delay and cancellation depart...             no\n",
              "7   travel to heathrow to kalamata and return jour...            yes\n",
              "8   this flight fail at every level we be delay an...             no\n",
              "9   beware of british airways and their marketing ...             no\n",
              "10  I fly from cairo to heathrow on what they call...             no\n",
              "11  I fly with numerous airline but I get to admit...             no\n",
              "12  we be travel as a family 5 people because of a...             no\n",
              "13  flight at 840am from dub to lcy cancel 1155pm ...             no\n",
              "14  terrible I have travel twice with they this ye...             no\n",
              "15  the customer service be ugly try call two week...             no\n",
              "16  most uncomfortable flight I have ever experien...             no\n",
              "17  I book our first out of country trip to take m...             no\n",
              "18  my husband and I book seat within our premium ...             no\n",
              "19  may 3 fly from seattle to heathrow then to edi...             no"
            ],
            "text/html": [
              "\n",
              "  <div id=\"df-1dbff38b-51ae-49d5-8f09-1fe434a77c39\">\n",
              "    <div class=\"colab-df-container\">\n",
              "      <div>\n",
              "<style scoped>\n",
              "    .dataframe tbody tr th:only-of-type {\n",
              "        vertical-align: middle;\n",
              "    }\n",
              "\n",
              "    .dataframe tbody tr th {\n",
              "        vertical-align: top;\n",
              "    }\n",
              "\n",
              "    .dataframe thead th {\n",
              "        text-align: right;\n",
              "    }\n",
              "</style>\n",
              "<table border=\"1\" class=\"dataframe\">\n",
              "  <thead>\n",
              "    <tr style=\"text-align: right;\">\n",
              "      <th></th>\n",
              "      <th>reviews</th>\n",
              "      <th>recommendation</th>\n",
              "    </tr>\n",
              "  </thead>\n",
              "  <tbody>\n",
              "    <tr>\n",
              "      <th>0</th>\n",
              "      <td>the airline lose my luggage and be absolutely ...</td>\n",
              "      <td>no</td>\n",
              "    </tr>\n",
              "    <tr>\n",
              "      <th>1</th>\n",
              "      <td>we book on the ba website round trip flight fr...</td>\n",
              "      <td>no</td>\n",
              "    </tr>\n",
              "    <tr>\n",
              "      <th>2</th>\n",
              "      <td>first time fly with ba business class never ag...</td>\n",
              "      <td>no</td>\n",
              "    </tr>\n",
              "    <tr>\n",
              "      <th>3</th>\n",
              "      <td>you can buy sandwich and crisp but do not expe...</td>\n",
              "      <td>no</td>\n",
              "    </tr>\n",
              "    <tr>\n",
              "      <th>4</th>\n",
              "      <td>this be a twoforone review cover economy and b...</td>\n",
              "      <td>yes</td>\n",
              "    </tr>\n",
              "    <tr>\n",
              "      <th>5</th>\n",
              "      <td>absolutely horrible airline communication be t...</td>\n",
              "      <td>no</td>\n",
              "    </tr>\n",
              "    <tr>\n",
              "      <th>6</th>\n",
              "      <td>have experienced delay and cancellation depart...</td>\n",
              "      <td>no</td>\n",
              "    </tr>\n",
              "    <tr>\n",
              "      <th>7</th>\n",
              "      <td>travel to heathrow to kalamata and return jour...</td>\n",
              "      <td>yes</td>\n",
              "    </tr>\n",
              "    <tr>\n",
              "      <th>8</th>\n",
              "      <td>this flight fail at every level we be delay an...</td>\n",
              "      <td>no</td>\n",
              "    </tr>\n",
              "    <tr>\n",
              "      <th>9</th>\n",
              "      <td>beware of british airways and their marketing ...</td>\n",
              "      <td>no</td>\n",
              "    </tr>\n",
              "    <tr>\n",
              "      <th>10</th>\n",
              "      <td>I fly from cairo to heathrow on what they call...</td>\n",
              "      <td>no</td>\n",
              "    </tr>\n",
              "    <tr>\n",
              "      <th>11</th>\n",
              "      <td>I fly with numerous airline but I get to admit...</td>\n",
              "      <td>no</td>\n",
              "    </tr>\n",
              "    <tr>\n",
              "      <th>12</th>\n",
              "      <td>we be travel as a family 5 people because of a...</td>\n",
              "      <td>no</td>\n",
              "    </tr>\n",
              "    <tr>\n",
              "      <th>13</th>\n",
              "      <td>flight at 840am from dub to lcy cancel 1155pm ...</td>\n",
              "      <td>no</td>\n",
              "    </tr>\n",
              "    <tr>\n",
              "      <th>14</th>\n",
              "      <td>terrible I have travel twice with they this ye...</td>\n",
              "      <td>no</td>\n",
              "    </tr>\n",
              "    <tr>\n",
              "      <th>15</th>\n",
              "      <td>the customer service be ugly try call two week...</td>\n",
              "      <td>no</td>\n",
              "    </tr>\n",
              "    <tr>\n",
              "      <th>16</th>\n",
              "      <td>most uncomfortable flight I have ever experien...</td>\n",
              "      <td>no</td>\n",
              "    </tr>\n",
              "    <tr>\n",
              "      <th>17</th>\n",
              "      <td>I book our first out of country trip to take m...</td>\n",
              "      <td>no</td>\n",
              "    </tr>\n",
              "    <tr>\n",
              "      <th>18</th>\n",
              "      <td>my husband and I book seat within our premium ...</td>\n",
              "      <td>no</td>\n",
              "    </tr>\n",
              "    <tr>\n",
              "      <th>19</th>\n",
              "      <td>may 3 fly from seattle to heathrow then to edi...</td>\n",
              "      <td>no</td>\n",
              "    </tr>\n",
              "  </tbody>\n",
              "</table>\n",
              "</div>\n",
              "      <button class=\"colab-df-convert\" onclick=\"convertToInteractive('df-1dbff38b-51ae-49d5-8f09-1fe434a77c39')\"\n",
              "              title=\"Convert this dataframe to an interactive table.\"\n",
              "              style=\"display:none;\">\n",
              "        \n",
              "  <svg xmlns=\"http://www.w3.org/2000/svg\" height=\"24px\"viewBox=\"0 0 24 24\"\n",
              "       width=\"24px\">\n",
              "    <path d=\"M0 0h24v24H0V0z\" fill=\"none\"/>\n",
              "    <path d=\"M18.56 5.44l.94 2.06.94-2.06 2.06-.94-2.06-.94-.94-2.06-.94 2.06-2.06.94zm-11 1L8.5 8.5l.94-2.06 2.06-.94-2.06-.94L8.5 2.5l-.94 2.06-2.06.94zm10 10l.94 2.06.94-2.06 2.06-.94-2.06-.94-.94-2.06-.94 2.06-2.06.94z\"/><path d=\"M17.41 7.96l-1.37-1.37c-.4-.4-.92-.59-1.43-.59-.52 0-1.04.2-1.43.59L10.3 9.45l-7.72 7.72c-.78.78-.78 2.05 0 2.83L4 21.41c.39.39.9.59 1.41.59.51 0 1.02-.2 1.41-.59l7.78-7.78 2.81-2.81c.8-.78.8-2.07 0-2.86zM5.41 20L4 18.59l7.72-7.72 1.47 1.35L5.41 20z\"/>\n",
              "  </svg>\n",
              "      </button>\n",
              "      \n",
              "  <style>\n",
              "    .colab-df-container {\n",
              "      display:flex;\n",
              "      flex-wrap:wrap;\n",
              "      gap: 12px;\n",
              "    }\n",
              "\n",
              "    .colab-df-convert {\n",
              "      background-color: #E8F0FE;\n",
              "      border: none;\n",
              "      border-radius: 50%;\n",
              "      cursor: pointer;\n",
              "      display: none;\n",
              "      fill: #1967D2;\n",
              "      height: 32px;\n",
              "      padding: 0 0 0 0;\n",
              "      width: 32px;\n",
              "    }\n",
              "\n",
              "    .colab-df-convert:hover {\n",
              "      background-color: #E2EBFA;\n",
              "      box-shadow: 0px 1px 2px rgba(60, 64, 67, 0.3), 0px 1px 3px 1px rgba(60, 64, 67, 0.15);\n",
              "      fill: #174EA6;\n",
              "    }\n",
              "\n",
              "    [theme=dark] .colab-df-convert {\n",
              "      background-color: #3B4455;\n",
              "      fill: #D2E3FC;\n",
              "    }\n",
              "\n",
              "    [theme=dark] .colab-df-convert:hover {\n",
              "      background-color: #434B5C;\n",
              "      box-shadow: 0px 1px 3px 1px rgba(0, 0, 0, 0.15);\n",
              "      filter: drop-shadow(0px 1px 2px rgba(0, 0, 0, 0.3));\n",
              "      fill: #FFFFFF;\n",
              "    }\n",
              "  </style>\n",
              "\n",
              "      <script>\n",
              "        const buttonEl =\n",
              "          document.querySelector('#df-1dbff38b-51ae-49d5-8f09-1fe434a77c39 button.colab-df-convert');\n",
              "        buttonEl.style.display =\n",
              "          google.colab.kernel.accessAllowed ? 'block' : 'none';\n",
              "\n",
              "        async function convertToInteractive(key) {\n",
              "          const element = document.querySelector('#df-1dbff38b-51ae-49d5-8f09-1fe434a77c39');\n",
              "          const dataTable =\n",
              "            await google.colab.kernel.invokeFunction('convertToInteractive',\n",
              "                                                     [key], {});\n",
              "          if (!dataTable) return;\n",
              "\n",
              "          const docLinkHtml = 'Like what you see? Visit the ' +\n",
              "            '<a target=\"_blank\" href=https://colab.research.google.com/notebooks/data_table.ipynb>data table notebook</a>'\n",
              "            + ' to learn more about interactive tables.';\n",
              "          element.innerHTML = '';\n",
              "          dataTable['output_type'] = 'display_data';\n",
              "          await google.colab.output.renderOutput(dataTable, element);\n",
              "          const docLink = document.createElement('div');\n",
              "          docLink.innerHTML = docLinkHtml;\n",
              "          element.appendChild(docLink);\n",
              "        }\n",
              "      </script>\n",
              "    </div>\n",
              "  </div>\n",
              "  "
            ]
          },
          "metadata": {},
          "execution_count": 56
        }
      ]
    },
    {
      "cell_type": "code",
      "source": [
        "df['positive']=df['recommendation'].apply(lambda x: 1 if x=='yes' else 0)\n",
        "df.drop(['recommendation'],axis=1,inplace=True)\n",
        "df.head()"
      ],
      "metadata": {
        "colab": {
          "base_uri": "https://localhost:8080/",
          "height": 206
        },
        "id": "yZZLJKc94CcI",
        "outputId": "eef63043-6db0-4967-8d15-40a6026ae7d4"
      },
      "execution_count": 57,
      "outputs": [
        {
          "output_type": "execute_result",
          "data": {
            "text/plain": [
              "                                             reviews  positive\n",
              "0  the airline lose my luggage and be absolutely ...         0\n",
              "1  we book on the ba website round trip flight fr...         0\n",
              "2  first time fly with ba business class never ag...         0\n",
              "3  you can buy sandwich and crisp but do not expe...         0\n",
              "4  this be a twoforone review cover economy and b...         1"
            ],
            "text/html": [
              "\n",
              "  <div id=\"df-22f9f5ca-4e30-4285-a7ad-7dc1505948cb\">\n",
              "    <div class=\"colab-df-container\">\n",
              "      <div>\n",
              "<style scoped>\n",
              "    .dataframe tbody tr th:only-of-type {\n",
              "        vertical-align: middle;\n",
              "    }\n",
              "\n",
              "    .dataframe tbody tr th {\n",
              "        vertical-align: top;\n",
              "    }\n",
              "\n",
              "    .dataframe thead th {\n",
              "        text-align: right;\n",
              "    }\n",
              "</style>\n",
              "<table border=\"1\" class=\"dataframe\">\n",
              "  <thead>\n",
              "    <tr style=\"text-align: right;\">\n",
              "      <th></th>\n",
              "      <th>reviews</th>\n",
              "      <th>positive</th>\n",
              "    </tr>\n",
              "  </thead>\n",
              "  <tbody>\n",
              "    <tr>\n",
              "      <th>0</th>\n",
              "      <td>the airline lose my luggage and be absolutely ...</td>\n",
              "      <td>0</td>\n",
              "    </tr>\n",
              "    <tr>\n",
              "      <th>1</th>\n",
              "      <td>we book on the ba website round trip flight fr...</td>\n",
              "      <td>0</td>\n",
              "    </tr>\n",
              "    <tr>\n",
              "      <th>2</th>\n",
              "      <td>first time fly with ba business class never ag...</td>\n",
              "      <td>0</td>\n",
              "    </tr>\n",
              "    <tr>\n",
              "      <th>3</th>\n",
              "      <td>you can buy sandwich and crisp but do not expe...</td>\n",
              "      <td>0</td>\n",
              "    </tr>\n",
              "    <tr>\n",
              "      <th>4</th>\n",
              "      <td>this be a twoforone review cover economy and b...</td>\n",
              "      <td>1</td>\n",
              "    </tr>\n",
              "  </tbody>\n",
              "</table>\n",
              "</div>\n",
              "      <button class=\"colab-df-convert\" onclick=\"convertToInteractive('df-22f9f5ca-4e30-4285-a7ad-7dc1505948cb')\"\n",
              "              title=\"Convert this dataframe to an interactive table.\"\n",
              "              style=\"display:none;\">\n",
              "        \n",
              "  <svg xmlns=\"http://www.w3.org/2000/svg\" height=\"24px\"viewBox=\"0 0 24 24\"\n",
              "       width=\"24px\">\n",
              "    <path d=\"M0 0h24v24H0V0z\" fill=\"none\"/>\n",
              "    <path d=\"M18.56 5.44l.94 2.06.94-2.06 2.06-.94-2.06-.94-.94-2.06-.94 2.06-2.06.94zm-11 1L8.5 8.5l.94-2.06 2.06-.94-2.06-.94L8.5 2.5l-.94 2.06-2.06.94zm10 10l.94 2.06.94-2.06 2.06-.94-2.06-.94-.94-2.06-.94 2.06-2.06.94z\"/><path d=\"M17.41 7.96l-1.37-1.37c-.4-.4-.92-.59-1.43-.59-.52 0-1.04.2-1.43.59L10.3 9.45l-7.72 7.72c-.78.78-.78 2.05 0 2.83L4 21.41c.39.39.9.59 1.41.59.51 0 1.02-.2 1.41-.59l7.78-7.78 2.81-2.81c.8-.78.8-2.07 0-2.86zM5.41 20L4 18.59l7.72-7.72 1.47 1.35L5.41 20z\"/>\n",
              "  </svg>\n",
              "      </button>\n",
              "      \n",
              "  <style>\n",
              "    .colab-df-container {\n",
              "      display:flex;\n",
              "      flex-wrap:wrap;\n",
              "      gap: 12px;\n",
              "    }\n",
              "\n",
              "    .colab-df-convert {\n",
              "      background-color: #E8F0FE;\n",
              "      border: none;\n",
              "      border-radius: 50%;\n",
              "      cursor: pointer;\n",
              "      display: none;\n",
              "      fill: #1967D2;\n",
              "      height: 32px;\n",
              "      padding: 0 0 0 0;\n",
              "      width: 32px;\n",
              "    }\n",
              "\n",
              "    .colab-df-convert:hover {\n",
              "      background-color: #E2EBFA;\n",
              "      box-shadow: 0px 1px 2px rgba(60, 64, 67, 0.3), 0px 1px 3px 1px rgba(60, 64, 67, 0.15);\n",
              "      fill: #174EA6;\n",
              "    }\n",
              "\n",
              "    [theme=dark] .colab-df-convert {\n",
              "      background-color: #3B4455;\n",
              "      fill: #D2E3FC;\n",
              "    }\n",
              "\n",
              "    [theme=dark] .colab-df-convert:hover {\n",
              "      background-color: #434B5C;\n",
              "      box-shadow: 0px 1px 3px 1px rgba(0, 0, 0, 0.15);\n",
              "      filter: drop-shadow(0px 1px 2px rgba(0, 0, 0, 0.3));\n",
              "      fill: #FFFFFF;\n",
              "    }\n",
              "  </style>\n",
              "\n",
              "      <script>\n",
              "        const buttonEl =\n",
              "          document.querySelector('#df-22f9f5ca-4e30-4285-a7ad-7dc1505948cb button.colab-df-convert');\n",
              "        buttonEl.style.display =\n",
              "          google.colab.kernel.accessAllowed ? 'block' : 'none';\n",
              "\n",
              "        async function convertToInteractive(key) {\n",
              "          const element = document.querySelector('#df-22f9f5ca-4e30-4285-a7ad-7dc1505948cb');\n",
              "          const dataTable =\n",
              "            await google.colab.kernel.invokeFunction('convertToInteractive',\n",
              "                                                     [key], {});\n",
              "          if (!dataTable) return;\n",
              "\n",
              "          const docLinkHtml = 'Like what you see? Visit the ' +\n",
              "            '<a target=\"_blank\" href=https://colab.research.google.com/notebooks/data_table.ipynb>data table notebook</a>'\n",
              "            + ' to learn more about interactive tables.';\n",
              "          element.innerHTML = '';\n",
              "          dataTable['output_type'] = 'display_data';\n",
              "          await google.colab.output.renderOutput(dataTable, element);\n",
              "          const docLink = document.createElement('div');\n",
              "          docLink.innerHTML = docLinkHtml;\n",
              "          element.appendChild(docLink);\n",
              "        }\n",
              "      </script>\n",
              "    </div>\n",
              "  </div>\n",
              "  "
            ]
          },
          "metadata": {},
          "execution_count": 57
        }
      ]
    },
    {
      "cell_type": "code",
      "source": [
        "import matplotlib.pyplot as plt\n",
        "import seaborn as sns"
      ],
      "metadata": {
        "id": "HdiIDcdfzpN4"
      },
      "execution_count": 58,
      "outputs": []
    },
    {
      "cell_type": "code",
      "source": [
        "sns.countplot(x=df[\"positive\"])"
      ],
      "metadata": {
        "colab": {
          "base_uri": "https://localhost:8080/",
          "height": 466
        },
        "id": "UAvq81C-zuFr",
        "outputId": "17ae0c99-b175-46c6-edbb-1d219a045fa0"
      },
      "execution_count": 59,
      "outputs": [
        {
          "output_type": "execute_result",
          "data": {
            "text/plain": [
              "<Axes: xlabel='positive', ylabel='count'>"
            ]
          },
          "metadata": {},
          "execution_count": 59
        },
        {
          "output_type": "display_data",
          "data": {
            "text/plain": [
              "<Figure size 640x480 with 1 Axes>"
            ],
            "image/png": "[encoded data removed]"
          },
          "metadata": {}
        }
      ]
    },
    {
      "cell_type": "code",
      "source": [
        "text=df['reviews']\n",
        "label=df['positive']\n"
      ],
      "metadata": {
        "id": "HD25Jah15DF-"
      },
      "execution_count": 60,
      "outputs": []
    },
    {
      "cell_type": "code",
      "source": [
        "from sklearn.model_selection import train_test_split\n",
        "X_train, X_test, y_train, y_test = train_test_split(text,label,test_size=0.15)"
      ],
      "metadata": {
        "id": "pkLqUCKy0-Fj"
      },
      "execution_count": 61,
      "outputs": []
    },
    {
      "cell_type": "code",
      "source": [
        "import tensorflow as tf\n",
        "import tensorflow_hub as hub\n",
        "!pip install tensorflow-text\n",
        "import tensorflow_text as text\n",
        "\n",
        "bert_preprocess = hub.KerasLayer(\"https://tfhub.dev/tensorflow/bert_en_uncased_preprocess/3\")\n",
        "bert_encoder = hub.KerasLayer(\"https://tfhub.dev/tensorflow/bert_en_uncased_L-12_H-768_A-12/4\")\n",
        "# Bert layers\n",
        "text_input = tf.keras.layers.Input(shape=(), dtype=tf.string, name='text')\n",
        "preprocessed_text = bert_preprocess(text_input)\n",
        "outputs = bert_encoder(preprocessed_text)\n",
        "# Neural network layers\n",
        "l = tf.keras.layers.Dropout(0.1, name=\"dropout\")(outputs['pooled_output'])\n",
        "l = tf.keras.layers.Dense(1, activation='sigmoid', name=\"output\")(l)\n",
        "# Use inputs and outputs to construct a final model\n",
        "model = tf.keras.Model(inputs=[text_input], outputs = [l])\n",
        "model.compile(optimizer='adam', loss='binary_crossentropy', metrics=['accuracy'])\n",
        "# model.fit(X_train, y_train, epochs=2, batch_size = 32)"
      ],
      "metadata": {
        "colab": {
          "base_uri": "https://localhost:8080/"
        },
        "id": "NEbZ_AIu48_g",
        "outputId": "1e82bd2a-99f4-4478-f2d5-f9aef14ebdee"
      },
      "execution_count": 62,
      "outputs": [
        {
          "output_type": "stream",
          "name": "stdout",
          "text": [
            "Looking in indexes: https://pypi.org/simple, https://us-python.pkg.dev/colab-wheels/public/simple/\n",
            "Requirement already satisfied: tensorflow-text in /usr/local/lib/python3.10/dist-packages (2.12.1)\n",
            "Requirement already satisfied: tensorflow-hub>=0.8.0 in /usr/local/lib/python3.10/dist-packages (from tensorflow-text) (0.13.0)\n",
            "Requirement already satisfied: tensorflow<2.13,>=2.12.0 in /usr/local/lib/python3.10/dist-packages (from tensorflow-text) (2.12.0)\n",
            "Requirement already satisfied: absl-py>=1.0.0 in /usr/local/lib/python3.10/dist-packages (from tensorflow<2.13,>=2.12.0->tensorflow-text) (1.4.0)\n",
            "Requirement already satisfied: astunparse>=1.6.0 in /usr/local/lib/python3.10/dist-packages (from tensorflow<2.13,>=2.12.0->tensorflow-text) (1.6.3)\n",
            "Requirement already satisfied: flatbuffers>=2.0 in /usr/local/lib/python3.10/dist-packages (from tensorflow<2.13,>=2.12.0->tensorflow-text) (23.5.26)\n",
            "Requirement already satisfied: gast<=0.4.0,>=0.2.1 in /usr/local/lib/python3.10/dist-packages (from tensorflow<2.13,>=2.12.0->tensorflow-text) (0.4.0)\n",
            "Requirement already satisfied: google-pasta>=0.1.1 in /usr/local/lib/python3.10/dist-packages (from tensorflow<2.13,>=2.12.0->tensorflow-text) (0.2.0)\n",
            "Requirement already satisfied: grpcio<2.0,>=1.24.3 in /usr/local/lib/python3.10/dist-packages (from tensorflow<2.13,>=2.12.0->tensorflow-text) (1.54.2)\n",
            "Requirement already satisfied: h5py>=2.9.0 in /usr/local/lib/python3.10/dist-packages (from tensorflow<2.13,>=2.12.0->tensorflow-text) (3.8.0)\n",
            "Requirement already satisfied: jax>=0.3.15 in /usr/local/lib/python3.10/dist-packages (from tensorflow<2.13,>=2.12.0->tensorflow-text) (0.4.10)\n",
            "Requirement already satisfied: keras<2.13,>=2.12.0 in /usr/local/lib/python3.10/dist-packages (from tensorflow<2.13,>=2.12.0->tensorflow-text) (2.12.0)\n",
            "Requirement already satisfied: libclang>=13.0.0 in /usr/local/lib/python3.10/dist-packages (from tensorflow<2.13,>=2.12.0->tensorflow-text) (16.0.0)\n",
            "Requirement already satisfied: numpy<1.24,>=1.22 in /usr/local/lib/python3.10/dist-packages (from tensorflow<2.13,>=2.12.0->tensorflow-text) (1.22.4)\n",
            "Requirement already satisfied: opt-einsum>=2.3.2 in /usr/local/lib/python3.10/dist-packages (from tensorflow<2.13,>=2.12.0->tensorflow-text) (3.3.0)\n",
            "Requirement already satisfied: packaging in /usr/local/lib/python3.10/dist-packages (from tensorflow<2.13,>=2.12.0->tensorflow-text) (23.1)\n",
            "Requirement already satisfied: protobuf!=4.21.0,!=4.21.1,!=4.21.2,!=4.21.3,!=4.21.4,!=4.21.5,<5.0.0dev,>=3.20.3 in /usr/local/lib/python3.10/dist-packages (from tensorflow<2.13,>=2.12.0->tensorflow-text) (3.20.3)\n",
            "Requirement already satisfied: setuptools in /usr/local/lib/python3.10/dist-packages (from tensorflow<2.13,>=2.12.0->tensorflow-text) (67.7.2)\n",
            "Requirement already satisfied: six>=1.12.0 in /usr/local/lib/python3.10/dist-packages (from tensorflow<2.13,>=2.12.0->tensorflow-text) (1.16.0)\n",
            "Requirement already satisfied: tensorboard<2.13,>=2.12 in /usr/local/lib/python3.10/dist-packages (from tensorflow<2.13,>=2.12.0->tensorflow-text) (2.12.3)\n",
            "Requirement already satisfied: tensorflow-estimator<2.13,>=2.12.0 in /usr/local/lib/python3.10/dist-packages (from tensorflow<2.13,>=2.12.0->tensorflow-text) (2.12.0)\n",
            "Requirement already satisfied: termcolor>=1.1.0 in /usr/local/lib/python3.10/dist-packages (from tensorflow<2.13,>=2.12.0->tensorflow-text) (2.3.0)\n",
            "Requirement already satisfied: typing-extensions>=3.6.6 in /usr/local/lib/python3.10/dist-packages (from tensorflow<2.13,>=2.12.0->tensorflow-text) (4.6.3)\n",
            "Requirement already satisfied: wrapt<1.15,>=1.11.0 in /usr/local/lib/python3.10/dist-packages (from tensorflow<2.13,>=2.12.0->tensorflow-text) (1.14.1)\n",
            "Requirement already satisfied: tensorflow-io-gcs-filesystem>=0.23.1 in /usr/local/lib/python3.10/dist-packages (from tensorflow<2.13,>=2.12.0->tensorflow-text) (0.32.0)\n",
            "Requirement already satisfied: wheel<1.0,>=0.23.0 in /usr/local/lib/python3.10/dist-packages (from astunparse>=1.6.0->tensorflow<2.13,>=2.12.0->tensorflow-text) (0.40.0)\n",
            "Requirement already satisfied: ml-dtypes>=0.1.0 in /usr/local/lib/python3.10/dist-packages (from jax>=0.3.15->tensorflow<2.13,>=2.12.0->tensorflow-text) (0.2.0)\n",
            "Requirement already satisfied: scipy>=1.7 in /usr/local/lib/python3.10/dist-packages (from jax>=0.3.15->tensorflow<2.13,>=2.12.0->tensorflow-text) (1.10.1)\n",
            "Requirement already satisfied: google-auth<3,>=1.6.3 in /usr/local/lib/python3.10/dist-packages (from tensorboard<2.13,>=2.12->tensorflow<2.13,>=2.12.0->tensorflow-text) (2.17.3)\n",
            "Requirement already satisfied: google-auth-oauthlib<1.1,>=0.5 in /usr/local/lib/python3.10/dist-packages (from tensorboard<2.13,>=2.12->tensorflow<2.13,>=2.12.0->tensorflow-text) (1.0.0)\n",
            "Requirement already satisfied: markdown>=2.6.8 in /usr/local/lib/python3.10/dist-packages (from tensorboard<2.13,>=2.12->tensorflow<2.13,>=2.12.0->tensorflow-text) (3.4.3)\n",
            "Requirement already satisfied: requests<3,>=2.21.0 in /usr/local/lib/python3.10/dist-packages (from tensorboard<2.13,>=2.12->tensorflow<2.13,>=2.12.0->tensorflow-text) (2.27.1)\n",
            "Requirement already satisfied: tensorboard-data-server<0.8.0,>=0.7.0 in /usr/local/lib/python3.10/dist-packages (from tensorboard<2.13,>=2.12->tensorflow<2.13,>=2.12.0->tensorflow-text) (0.7.1)\n",
            "Requirement already satisfied: werkzeug>=1.0.1 in /usr/local/lib/python3.10/dist-packages (from tensorboard<2.13,>=2.12->tensorflow<2.13,>=2.12.0->tensorflow-text) (2.3.6)\n",
            "Requirement already satisfied: cachetools<6.0,>=2.0.0 in /usr/local/lib/python3.10/dist-packages (from google-auth<3,>=1.6.3->tensorboard<2.13,>=2.12->tensorflow<2.13,>=2.12.0->tensorflow-text) (5.3.1)\n",
            "Requirement already satisfied: pyasn1-modules>=0.2.1 in /usr/local/lib/python3.10/dist-packages (from google-auth<3,>=1.6.3->tensorboard<2.13,>=2.12->tensorflow<2.13,>=2.12.0->tensorflow-text) (0.3.0)\n",
            "Requirement already satisfied: rsa<5,>=3.1.4 in /usr/local/lib/python3.10/dist-packages (from google-auth<3,>=1.6.3->tensorboard<2.13,>=2.12->tensorflow<2.13,>=2.12.0->tensorflow-text) (4.9)\n",
            "Requirement already satisfied: requests-oauthlib>=0.7.0 in /usr/local/lib/python3.10/dist-packages (from google-auth-oauthlib<1.1,>=0.5->tensorboard<2.13,>=2.12->tensorflow<2.13,>=2.12.0->tensorflow-text) (1.3.1)\n",
            "Requirement already satisfied: urllib3<1.27,>=1.21.1 in /usr/local/lib/python3.10/dist-packages (from requests<3,>=2.21.0->tensorboard<2.13,>=2.12->tensorflow<2.13,>=2.12.0->tensorflow-text) (1.26.16)\n",
            "Requirement already satisfied: certifi>=2017.4.17 in /usr/local/lib/python3.10/dist-packages (from requests<3,>=2.21.0->tensorboard<2.13,>=2.12->tensorflow<2.13,>=2.12.0->tensorflow-text) (2023.5.7)\n",
            "Requirement already satisfied: charset-normalizer~=2.0.0 in /usr/local/lib/python3.10/dist-packages (from requests<3,>=2.21.0->tensorboard<2.13,>=2.12->tensorflow<2.13,>=2.12.0->tensorflow-text) (2.0.12)\n",
            "Requirement already satisfied: idna<4,>=2.5 in /usr/local/lib/python3.10/dist-packages (from requests<3,>=2.21.0->tensorboard<2.13,>=2.12->tensorflow<2.13,>=2.12.0->tensorflow-text) (3.4)\n",
            "Requirement already satisfied: MarkupSafe>=2.1.1 in /usr/local/lib/python3.10/dist-packages (from werkzeug>=1.0.1->tensorboard<2.13,>=2.12->tensorflow<2.13,>=2.12.0->tensorflow-text) (2.1.3)\n",
            "Requirement already satisfied: pyasn1<0.6.0,>=0.4.6 in /usr/local/lib/python3.10/dist-packages (from pyasn1-modules>=0.2.1->google-auth<3,>=1.6.3->tensorboard<2.13,>=2.12->tensorflow<2.13,>=2.12.0->tensorflow-text) (0.5.0)\n",
            "Requirement already satisfied: oauthlib>=3.0.0 in /usr/local/lib/python3.10/dist-packages (from requests-oauthlib>=0.7.0->google-auth-oauthlib<1.1,>=0.5->tensorboard<2.13,>=2.12->tensorflow<2.13,>=2.12.0->tensorflow-text) (3.2.2)\n"
          ]
        }
      ]
    },
    {
      "cell_type": "code",
      "source": [
        "model.fit(X_train, y_train, epochs=100,validation_data=(X_test,y_test), batch_size = 32)"
      ],
      "metadata": {
        "colab": {
          "base_uri": "https://localhost:8080/"
        },
        "id": "8LNfLCNr5tbA",
        "outputId": "b631cc8f-14cd-4191-fd81-d6311c09d08d"
      },
      "execution_count": 68,
      "outputs": [
        {
          "output_type": "stream",
          "name": "stdout",
          "text": [
            "Epoch 1/100\n",
            "55/55 [==============================] - 24s 445ms/step - loss: 0.4726 - accuracy: 0.7824 - val_loss: 0.4749 - val_accuracy: 0.8026\n",
            "Epoch 2/100\n",
            "55/55 [==============================] - 25s 451ms/step - loss: 0.4692 - accuracy: 0.7858 - val_loss: 0.4718 - val_accuracy: 0.7832\n",
            "Epoch 3/100\n",
            "55/55 [==============================] - 24s 444ms/step - loss: 0.4568 - accuracy: 0.7944 - val_loss: 0.4671 - val_accuracy: 0.8091\n",
            "Epoch 4/100\n",
            "55/55 [==============================] - 24s 442ms/step - loss: 0.4650 - accuracy: 0.7904 - val_loss: 0.4758 - val_accuracy: 0.7702\n",
            "Epoch 5/100\n",
            "55/55 [==============================] - 24s 444ms/step - loss: 0.4595 - accuracy: 0.7910 - val_loss: 0.4636 - val_accuracy: 0.7929\n",
            "Epoch 6/100\n",
            "55/55 [==============================] - 24s 445ms/step - loss: 0.4633 - accuracy: 0.7870 - val_loss: 0.4766 - val_accuracy: 0.7605\n",
            "Epoch 7/100\n",
            "55/55 [==============================] - 24s 445ms/step - loss: 0.4553 - accuracy: 0.7950 - val_loss: 0.4636 - val_accuracy: 0.7864\n",
            "Epoch 8/100\n",
            "55/55 [==============================] - 24s 444ms/step - loss: 0.4496 - accuracy: 0.7944 - val_loss: 0.4569 - val_accuracy: 0.7961\n",
            "Epoch 9/100\n",
            "55/55 [==============================] - 24s 445ms/step - loss: 0.4408 - accuracy: 0.8087 - val_loss: 0.4580 - val_accuracy: 0.7864\n",
            "Epoch 10/100\n",
            "55/55 [==============================] - 24s 443ms/step - loss: 0.4453 - accuracy: 0.7955 - val_loss: 0.4499 - val_accuracy: 0.8123\n",
            "Epoch 11/100\n",
            "55/55 [==============================] - 24s 444ms/step - loss: 0.4464 - accuracy: 0.7938 - val_loss: 0.4483 - val_accuracy: 0.8188\n",
            "Epoch 12/100\n",
            "55/55 [==============================] - 24s 444ms/step - loss: 0.4453 - accuracy: 0.7955 - val_loss: 0.4625 - val_accuracy: 0.7832\n",
            "Epoch 13/100\n",
            "55/55 [==============================] - 23s 410ms/step - loss: 0.4405 - accuracy: 0.7990 - val_loss: 0.4439 - val_accuracy: 0.8252\n",
            "Epoch 14/100\n",
            "55/55 [==============================] - 22s 410ms/step - loss: 0.4412 - accuracy: 0.8070 - val_loss: 0.4578 - val_accuracy: 0.7832\n",
            "Epoch 15/100\n",
            "55/55 [==============================] - 24s 438ms/step - loss: 0.4443 - accuracy: 0.8024 - val_loss: 0.4504 - val_accuracy: 0.7929\n",
            "Epoch 16/100\n",
            "55/55 [==============================] - 24s 440ms/step - loss: 0.4315 - accuracy: 0.8098 - val_loss: 0.4426 - val_accuracy: 0.8091\n",
            "Epoch 17/100\n",
            "55/55 [==============================] - 24s 438ms/step - loss: 0.4351 - accuracy: 0.8013 - val_loss: 0.4505 - val_accuracy: 0.7929\n",
            "Epoch 18/100\n",
            "55/55 [==============================] - 24s 436ms/step - loss: 0.4327 - accuracy: 0.8035 - val_loss: 0.4373 - val_accuracy: 0.8188\n",
            "Epoch 19/100\n",
            "55/55 [==============================] - 24s 439ms/step - loss: 0.4349 - accuracy: 0.7944 - val_loss: 0.4333 - val_accuracy: 0.8252\n",
            "Epoch 20/100\n",
            "55/55 [==============================] - 22s 405ms/step - loss: 0.4277 - accuracy: 0.8150 - val_loss: 0.4400 - val_accuracy: 0.8026\n",
            "Epoch 21/100\n",
            "55/55 [==============================] - 24s 443ms/step - loss: 0.4313 - accuracy: 0.8093 - val_loss: 0.4322 - val_accuracy: 0.8285\n",
            "Epoch 22/100\n",
            "55/55 [==============================] - 24s 444ms/step - loss: 0.4262 - accuracy: 0.8161 - val_loss: 0.4418 - val_accuracy: 0.8026\n",
            "Epoch 23/100\n",
            "55/55 [==============================] - 24s 444ms/step - loss: 0.4294 - accuracy: 0.8013 - val_loss: 0.4297 - val_accuracy: 0.8252\n",
            "Epoch 24/100\n",
            "55/55 [==============================] - 23s 410ms/step - loss: 0.4235 - accuracy: 0.8167 - val_loss: 0.4293 - val_accuracy: 0.8285\n",
            "Epoch 25/100\n",
            "55/55 [==============================] - 24s 443ms/step - loss: 0.4175 - accuracy: 0.8127 - val_loss: 0.4260 - val_accuracy: 0.8317\n",
            "Epoch 26/100\n",
            "55/55 [==============================] - 25s 447ms/step - loss: 0.4146 - accuracy: 0.8155 - val_loss: 0.4250 - val_accuracy: 0.8220\n",
            "Epoch 27/100\n",
            "55/55 [==============================] - 24s 446ms/step - loss: 0.4202 - accuracy: 0.8155 - val_loss: 0.4331 - val_accuracy: 0.8155\n",
            "Epoch 28/100\n",
            "55/55 [==============================] - 24s 445ms/step - loss: 0.4145 - accuracy: 0.8167 - val_loss: 0.4245 - val_accuracy: 0.8188\n",
            "Epoch 29/100\n",
            "55/55 [==============================] - 22s 409ms/step - loss: 0.4216 - accuracy: 0.8064 - val_loss: 0.4251 - val_accuracy: 0.8123\n",
            "Epoch 30/100\n",
            "55/55 [==============================] - 24s 439ms/step - loss: 0.4208 - accuracy: 0.8161 - val_loss: 0.4221 - val_accuracy: 0.8350\n",
            "Epoch 31/100\n",
            "55/55 [==============================] - 22s 407ms/step - loss: 0.4085 - accuracy: 0.8247 - val_loss: 0.4247 - val_accuracy: 0.8123\n",
            "Epoch 32/100\n",
            "55/55 [==============================] - 22s 404ms/step - loss: 0.4160 - accuracy: 0.8230 - val_loss: 0.4260 - val_accuracy: 0.8220\n",
            "Epoch 33/100\n",
            "55/55 [==============================] - 24s 441ms/step - loss: 0.4103 - accuracy: 0.8252 - val_loss: 0.4309 - val_accuracy: 0.8123\n",
            "Epoch 34/100\n",
            "55/55 [==============================] - 24s 442ms/step - loss: 0.4166 - accuracy: 0.8081 - val_loss: 0.4156 - val_accuracy: 0.8350\n",
            "Epoch 35/100\n",
            "55/55 [==============================] - 25s 445ms/step - loss: 0.4068 - accuracy: 0.8224 - val_loss: 0.4155 - val_accuracy: 0.8382\n",
            "Epoch 36/100\n",
            "55/55 [==============================] - 24s 445ms/step - loss: 0.4093 - accuracy: 0.8241 - val_loss: 0.4165 - val_accuracy: 0.8382\n",
            "Epoch 37/100\n",
            "55/55 [==============================] - 24s 446ms/step - loss: 0.4130 - accuracy: 0.8167 - val_loss: 0.4399 - val_accuracy: 0.7896\n",
            "Epoch 38/100\n",
            "55/55 [==============================] - 24s 444ms/step - loss: 0.4208 - accuracy: 0.8075 - val_loss: 0.4128 - val_accuracy: 0.8414\n",
            "Epoch 39/100\n",
            "55/55 [==============================] - 25s 446ms/step - loss: 0.4105 - accuracy: 0.8138 - val_loss: 0.4105 - val_accuracy: 0.8414\n",
            "Epoch 40/100\n",
            "55/55 [==============================] - 24s 446ms/step - loss: 0.4085 - accuracy: 0.8235 - val_loss: 0.4115 - val_accuracy: 0.8447\n",
            "Epoch 41/100\n",
            "55/55 [==============================] - 22s 408ms/step - loss: 0.4038 - accuracy: 0.8264 - val_loss: 0.4139 - val_accuracy: 0.8155\n",
            "Epoch 42/100\n",
            "55/55 [==============================] - 22s 408ms/step - loss: 0.4079 - accuracy: 0.8155 - val_loss: 0.4128 - val_accuracy: 0.8447\n",
            "Epoch 43/100\n",
            "55/55 [==============================] - 24s 436ms/step - loss: 0.4039 - accuracy: 0.8167 - val_loss: 0.4130 - val_accuracy: 0.8414\n",
            "Epoch 44/100\n",
            "55/55 [==============================] - 24s 439ms/step - loss: 0.4056 - accuracy: 0.8184 - val_loss: 0.4073 - val_accuracy: 0.8382\n",
            "Epoch 45/100\n",
            "55/55 [==============================] - 24s 436ms/step - loss: 0.3995 - accuracy: 0.8298 - val_loss: 0.4059 - val_accuracy: 0.8414\n",
            "Epoch 46/100\n",
            "55/55 [==============================] - 24s 437ms/step - loss: 0.4030 - accuracy: 0.8241 - val_loss: 0.4050 - val_accuracy: 0.8382\n",
            "Epoch 47/100\n",
            "55/55 [==============================] - 24s 439ms/step - loss: 0.4097 - accuracy: 0.8172 - val_loss: 0.4048 - val_accuracy: 0.8382\n",
            "Epoch 48/100\n",
            "55/55 [==============================] - 22s 403ms/step - loss: 0.3942 - accuracy: 0.8264 - val_loss: 0.4206 - val_accuracy: 0.8252\n",
            "Epoch 49/100\n",
            "55/55 [==============================] - 22s 406ms/step - loss: 0.4033 - accuracy: 0.8281 - val_loss: 0.4072 - val_accuracy: 0.8479\n",
            "Epoch 50/100\n",
            "55/55 [==============================] - 24s 444ms/step - loss: 0.3949 - accuracy: 0.8315 - val_loss: 0.4026 - val_accuracy: 0.8285\n",
            "Epoch 51/100\n",
            "55/55 [==============================] - 24s 444ms/step - loss: 0.4037 - accuracy: 0.8264 - val_loss: 0.4021 - val_accuracy: 0.8285\n",
            "Epoch 52/100\n",
            "55/55 [==============================] - 23s 409ms/step - loss: 0.4003 - accuracy: 0.8270 - val_loss: 0.4062 - val_accuracy: 0.8091\n",
            "Epoch 53/100\n",
            "55/55 [==============================] - 24s 444ms/step - loss: 0.4004 - accuracy: 0.8315 - val_loss: 0.4354 - val_accuracy: 0.8058\n",
            "Epoch 54/100\n",
            "55/55 [==============================] - 22s 408ms/step - loss: 0.4020 - accuracy: 0.8241 - val_loss: 0.3989 - val_accuracy: 0.8382\n",
            "Epoch 55/100\n",
            "55/55 [==============================] - 24s 437ms/step - loss: 0.4004 - accuracy: 0.8264 - val_loss: 0.4038 - val_accuracy: 0.8188\n",
            "Epoch 56/100\n",
            "55/55 [==============================] - 24s 438ms/step - loss: 0.4052 - accuracy: 0.8270 - val_loss: 0.3991 - val_accuracy: 0.8447\n",
            "Epoch 57/100\n",
            "55/55 [==============================] - 24s 437ms/step - loss: 0.4042 - accuracy: 0.8178 - val_loss: 0.3983 - val_accuracy: 0.8350\n",
            "Epoch 58/100\n",
            "55/55 [==============================] - 24s 435ms/step - loss: 0.3947 - accuracy: 0.8235 - val_loss: 0.3984 - val_accuracy: 0.8285\n",
            "Epoch 59/100\n",
            "55/55 [==============================] - 24s 438ms/step - loss: 0.4032 - accuracy: 0.8292 - val_loss: 0.3972 - val_accuracy: 0.8414\n",
            "Epoch 60/100\n",
            "55/55 [==============================] - 24s 440ms/step - loss: 0.4055 - accuracy: 0.8287 - val_loss: 0.4003 - val_accuracy: 0.8479\n",
            "Epoch 61/100\n",
            "55/55 [==============================] - 24s 439ms/step - loss: 0.3956 - accuracy: 0.8310 - val_loss: 0.3966 - val_accuracy: 0.8317\n",
            "Epoch 62/100\n",
            "55/55 [==============================] - 24s 440ms/step - loss: 0.3902 - accuracy: 0.8287 - val_loss: 0.4055 - val_accuracy: 0.8382\n",
            "Epoch 63/100\n",
            "55/55 [==============================] - 24s 439ms/step - loss: 0.3936 - accuracy: 0.8207 - val_loss: 0.3981 - val_accuracy: 0.8447\n",
            "Epoch 64/100\n",
            "55/55 [==============================] - 24s 440ms/step - loss: 0.3944 - accuracy: 0.8247 - val_loss: 0.3993 - val_accuracy: 0.8188\n",
            "Epoch 65/100\n",
            "55/55 [==============================] - 24s 440ms/step - loss: 0.4010 - accuracy: 0.8218 - val_loss: 0.3944 - val_accuracy: 0.8447\n",
            "Epoch 66/100\n",
            "55/55 [==============================] - 24s 440ms/step - loss: 0.3952 - accuracy: 0.8378 - val_loss: 0.4154 - val_accuracy: 0.8317\n",
            "Epoch 67/100\n",
            "55/55 [==============================] - 22s 406ms/step - loss: 0.4005 - accuracy: 0.8218 - val_loss: 0.3947 - val_accuracy: 0.8317\n",
            "Epoch 68/100\n",
            "55/55 [==============================] - 24s 441ms/step - loss: 0.3930 - accuracy: 0.8338 - val_loss: 0.3941 - val_accuracy: 0.8479\n",
            "Epoch 69/100\n",
            "55/55 [==============================] - 22s 408ms/step - loss: 0.3916 - accuracy: 0.8361 - val_loss: 0.3951 - val_accuracy: 0.8252\n",
            "Epoch 70/100\n",
            "55/55 [==============================] - 22s 408ms/step - loss: 0.3907 - accuracy: 0.8264 - val_loss: 0.3934 - val_accuracy: 0.8414\n",
            "Epoch 71/100\n",
            "55/55 [==============================] - 24s 446ms/step - loss: 0.3910 - accuracy: 0.8275 - val_loss: 0.3988 - val_accuracy: 0.8447\n",
            "Epoch 72/100\n",
            "55/55 [==============================] - 23s 411ms/step - loss: 0.3928 - accuracy: 0.8315 - val_loss: 0.3916 - val_accuracy: 0.8382\n",
            "Epoch 73/100\n",
            "55/55 [==============================] - 24s 438ms/step - loss: 0.3966 - accuracy: 0.8207 - val_loss: 0.3952 - val_accuracy: 0.8447\n",
            "Epoch 74/100\n",
            "55/55 [==============================] - 22s 405ms/step - loss: 0.3925 - accuracy: 0.8258 - val_loss: 0.3910 - val_accuracy: 0.8479\n",
            "Epoch 75/100\n",
            "55/55 [==============================] - 24s 438ms/step - loss: 0.3936 - accuracy: 0.8355 - val_loss: 0.3901 - val_accuracy: 0.8447\n",
            "Epoch 76/100\n",
            "55/55 [==============================] - 24s 438ms/step - loss: 0.3998 - accuracy: 0.8304 - val_loss: 0.3900 - val_accuracy: 0.8414\n",
            "Epoch 77/100\n",
            "55/55 [==============================] - 22s 405ms/step - loss: 0.3956 - accuracy: 0.8252 - val_loss: 0.3927 - val_accuracy: 0.8317\n",
            "Epoch 78/100\n",
            "55/55 [==============================] - 24s 441ms/step - loss: 0.3988 - accuracy: 0.8287 - val_loss: 0.3920 - val_accuracy: 0.8285\n",
            "Epoch 79/100\n",
            "55/55 [==============================] - 24s 441ms/step - loss: 0.3901 - accuracy: 0.8258 - val_loss: 0.3892 - val_accuracy: 0.8414\n",
            "Epoch 80/100\n",
            "55/55 [==============================] - 24s 444ms/step - loss: 0.3987 - accuracy: 0.8275 - val_loss: 0.3972 - val_accuracy: 0.8188\n",
            "Epoch 81/100\n",
            "55/55 [==============================] - 24s 443ms/step - loss: 0.3938 - accuracy: 0.8292 - val_loss: 0.4095 - val_accuracy: 0.8317\n",
            "Epoch 82/100\n",
            "55/55 [==============================] - 22s 408ms/step - loss: 0.3890 - accuracy: 0.8310 - val_loss: 0.3906 - val_accuracy: 0.8479\n",
            "Epoch 83/100\n",
            "55/55 [==============================] - 24s 445ms/step - loss: 0.3854 - accuracy: 0.8372 - val_loss: 0.3886 - val_accuracy: 0.8414\n",
            "Epoch 84/100\n",
            "55/55 [==============================] - 22s 407ms/step - loss: 0.3858 - accuracy: 0.8378 - val_loss: 0.3954 - val_accuracy: 0.8414\n",
            "Epoch 85/100\n",
            "55/55 [==============================] - 24s 440ms/step - loss: 0.3932 - accuracy: 0.8315 - val_loss: 0.3883 - val_accuracy: 0.8479\n",
            "Epoch 86/100\n",
            "55/55 [==============================] - 24s 441ms/step - loss: 0.3907 - accuracy: 0.8332 - val_loss: 0.3880 - val_accuracy: 0.8479\n",
            "Epoch 87/100\n",
            "55/55 [==============================] - 24s 440ms/step - loss: 0.3914 - accuracy: 0.8361 - val_loss: 0.3908 - val_accuracy: 0.8511\n",
            "Epoch 88/100\n",
            "55/55 [==============================] - 22s 407ms/step - loss: 0.3805 - accuracy: 0.8372 - val_loss: 0.3883 - val_accuracy: 0.8285\n",
            "Epoch 89/100\n",
            "55/55 [==============================] - 24s 436ms/step - loss: 0.3892 - accuracy: 0.8321 - val_loss: 0.3865 - val_accuracy: 0.8382\n",
            "Epoch 90/100\n",
            "55/55 [==============================] - 24s 438ms/step - loss: 0.3971 - accuracy: 0.8224 - val_loss: 0.3973 - val_accuracy: 0.8382\n",
            "Epoch 91/100\n",
            "55/55 [==============================] - 24s 438ms/step - loss: 0.3847 - accuracy: 0.8401 - val_loss: 0.3876 - val_accuracy: 0.8414\n",
            "Epoch 92/100\n",
            "55/55 [==============================] - 24s 436ms/step - loss: 0.3904 - accuracy: 0.8275 - val_loss: 0.3885 - val_accuracy: 0.8511\n",
            "Epoch 93/100\n",
            "55/55 [==============================] - 24s 438ms/step - loss: 0.3887 - accuracy: 0.8275 - val_loss: 0.3881 - val_accuracy: 0.8285\n",
            "Epoch 94/100\n",
            "55/55 [==============================] - 24s 440ms/step - loss: 0.3822 - accuracy: 0.8355 - val_loss: 0.3869 - val_accuracy: 0.8350\n",
            "Epoch 95/100\n",
            "55/55 [==============================] - 22s 406ms/step - loss: 0.3873 - accuracy: 0.8367 - val_loss: 0.3856 - val_accuracy: 0.8479\n",
            "Epoch 96/100\n",
            "55/55 [==============================] - 24s 441ms/step - loss: 0.3846 - accuracy: 0.8367 - val_loss: 0.3948 - val_accuracy: 0.8414\n",
            "Epoch 97/100\n",
            "55/55 [==============================] - 24s 439ms/step - loss: 0.3819 - accuracy: 0.8327 - val_loss: 0.4031 - val_accuracy: 0.8382\n",
            "Epoch 98/100\n",
            "55/55 [==============================] - 24s 442ms/step - loss: 0.3839 - accuracy: 0.8338 - val_loss: 0.3995 - val_accuracy: 0.8382\n",
            "Epoch 99/100\n",
            "55/55 [==============================] - 23s 409ms/step - loss: 0.3734 - accuracy: 0.8435 - val_loss: 0.3869 - val_accuracy: 0.8544\n",
            "Epoch 100/100\n",
            "55/55 [==============================] - 24s 446ms/step - loss: 0.3857 - accuracy: 0.8361 - val_loss: 0.4127 - val_accuracy: 0.8285\n"
          ]
        },
        {
          "output_type": "execute_result",
          "data": {
            "text/plain": [
              "<keras.callbacks.History at 0x7f93be6cc490>"
            ]
          },
          "metadata": {},
          "execution_count": 68
        }
      ]
    },
    {
      "cell_type": "code",
      "source": [
        "plt.title('Distribution of Reviews')\n",
        "plt.pie(df['positive'].value_counts(), labels = ['No','Yes'],explode=(0,0.07), autopct='%1.1f%%', shadow=True)"
      ],
      "metadata": {
        "colab": {
          "base_uri": "https://localhost:8080/",
          "height": 532
        },
        "id": "CL9D9A3pH8_I",
        "outputId": "c1dcec98-42bf-465c-db10-3d1ff3cbfbcd"
      },
      "execution_count": 83,
      "outputs": [
        {
          "output_type": "execute_result",
          "data": {
            "text/plain": [
              "([<matplotlib.patches.Wedge at 0x7f9617248730>,\n",
              "  <matplotlib.patches.Wedge at 0x7f960d3f7d90>],\n",
              " [Text(-0.5711683696552354, 0.9400886625767703, 'No'),\n",
              "  Text(0.6075154477242048, -0.9999124865589284, 'Yes')],\n",
              " [Text(-0.3115463834483102, 0.5127756341327837, '67.4%'),\n",
              "  Text(0.3478934615172797, -0.5725994581149418, '32.6%')])"
            ]
          },
          "metadata": {},
          "execution_count": 83
        },
        {
          "output_type": "display_data",
          "data": {
            "text/plain": [
              "<Figure size 640x480 with 1 Axes>"
            ],
            "image/png": "[encoded data removed]"
          },
          "metadata": {}
        }
      ]
    },
    {
      "cell_type": "code",
      "source": [
        "from sklearn.feature_extraction.text import TfidfVectorizer\n",
        "from sklearn.naive_bayes import MultinomialNB\n",
        "from sklearn.pipeline import Pipeline\n",
        "\n",
        "# Create tokenization and modelling pipeline\n",
        "model_0 = Pipeline([\n",
        "                    (\"tfidf\", TfidfVectorizer()), # convert words to numbers using tfidf\n",
        "                    (\"clf\", MultinomialNB()) # model the text\n",
        "])\n",
        "\n",
        "# Fit the pipeline to the training data\n",
        "model_0.fit(X_train, y_train)\n",
        "baseline_score = model_0.score(X_test, y_test)"
      ],
      "metadata": {
        "id": "mSqid-7f7Eu_"
      },
      "execution_count": 65,
      "outputs": []
    },
    {
      "cell_type": "code",
      "source": [
        "baseline_score"
      ],
      "metadata": {
        "colab": {
          "base_uri": "https://localhost:8080/"
        },
        "id": "pIcszxoj8-2C",
        "outputId": "6ba706b6-0714-4e32-b0eb-024dc8da5894"
      },
      "execution_count": 66,
      "outputs": [
        {
          "output_type": "execute_result",
          "data": {
            "text/plain": [
              "0.686084142394822"
            ]
          },
          "metadata": {},
          "execution_count": 66
        }
      ]
    },
    {
      "cell_type": "code",
      "source": [
        "from wordcloud import WordCloud, STOPWORDS\n",
        "stopwords = set(STOPWORDS)\n",
        "\n",
        "def show_wordcloud(data):\n",
        "    wordcloud = WordCloud(\n",
        "        background_color='white',\n",
        "        stopwords=stopwords,\n",
        "        max_words=200,\n",
        "        max_font_size=30,\n",
        "        scale=3,\n",
        "        random_state=1)\n",
        "\n",
        "    wordcloud=wordcloud.generate(str(data))\n",
        "\n",
        "    fig = plt.figure(1, figsize=(10, 10))\n",
        "    plt.axis('off')\n",
        "\n",
        "    plt.imshow(wordcloud)\n",
        "    plt.show()\n",
        "\n",
        "show_wordcloud(df.reviews)\n"
      ],
      "metadata": {
        "colab": {
          "base_uri": "https://localhost:8080/",
          "height": 424
        },
        "id": "iwMI7dpK9H-E",
        "outputId": "553765c6-1a78-4854-fc6c-49b253330f54"
      },
      "execution_count": 73,
      "outputs": [
        {
          "output_type": "display_data",
          "data": {
            "text/plain": [
              "<Figure size 1000x1000 with 1 Axes>"
            ],
            "image/png": "[encoded data removed]"
          },
          "metadata": {}
        }
      ]
    },
    {
      "cell_type": "code",
      "source": [],
      "metadata": {
        "id": "WRiHrYhqI_86"
      },
      "execution_count": null,
      "outputs": []
    }
  ]
}